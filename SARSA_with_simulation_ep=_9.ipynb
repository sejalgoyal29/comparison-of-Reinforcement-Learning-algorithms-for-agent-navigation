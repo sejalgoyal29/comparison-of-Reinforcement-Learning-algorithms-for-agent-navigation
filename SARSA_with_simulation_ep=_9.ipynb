{
  "cells": [
    {
      "cell_type": "code",
      "execution_count": 97,
      "metadata": {
        "id": "F6qipu1oDNin"
      },
      "outputs": [],
      "source": [
        "import numpy as np\n",
        "import pandas as pd\n",
        "import matplotlib.pyplot as plt\n",
        "import random\n",
        "import warnings\n",
        "warnings.filterwarnings(\"ignore\")"
      ]
    },
    {
      "cell_type": "code",
      "execution_count": 98,
      "metadata": {
        "id": "9VxMzGS_DSzR"
      },
      "outputs": [],
      "source": [
        "#create a user defined grid of size m*n\n",
        "def create_board(vertical,horizontal):\n",
        "    board = [[0 for column in range(vertical)] for  cell in range(horizontal)]\n",
        "    board = np.array(board)\n",
        "    return board"
      ]
    },
    {
      "cell_type": "code",
      "execution_count": 99,
      "metadata": {
        "colab": {
          "base_uri": "https://localhost:8080/"
        },
        "id": "6PkMply8DUfj",
        "outputId": "3a99dfe7-9a32-4df4-95ba-3e9d2658fab4"
      },
      "outputs": [
        {
          "output_type": "execute_result",
          "data": {
            "text/plain": [
              "array([[0, 0, 0, 0, 0, 0],\n",
              "       [0, 0, 0, 0, 0, 0],\n",
              "       [0, 0, 0, 0, 0, 0],\n",
              "       [0, 0, 0, 0, 0, 0],\n",
              "       [0, 0, 0, 0, 0, 0],\n",
              "       [0, 0, 0, 0, 0, 0]])"
            ]
          },
          "metadata": {},
          "execution_count": 99
        }
      ],
      "source": [
        "board = create_board(6,6)\n",
        "board"
      ]
    },
    {
      "cell_type": "code",
      "execution_count": 100,
      "metadata": {
        "id": "qGB0Y90rDXhB"
      },
      "outputs": [],
      "source": [
        "actions = ['up', 'right', 'down', 'left']"
      ]
    },
    {
      "cell_type": "code",
      "execution_count": 101,
      "metadata": {
        "id": "URlY-amvDZuR"
      },
      "outputs": [],
      "source": [
        "def intialize_obstacles(start,end):\n",
        "    obstacles = []\n",
        "    limit = int((board.shape[0]*board.shape[1])/6)\n",
        "    count = 0\n",
        "    while(count!=limit):\n",
        "        ran = np.random.randint((board.shape[0]*board.shape[1]))\n",
        "        if(ran!=start and ran!=end and ran not in obstacles):\n",
        "            obstacles.append(ran)\n",
        "            count+=1\n",
        "        else:\n",
        "            continue\n",
        "    return obstacles"
      ]
    },
    {
      "cell_type": "code",
      "execution_count": 102,
      "metadata": {
        "id": "u0kSsWuJDb7Z"
      },
      "outputs": [],
      "source": [
        "def position_obstacles(board,obstacles):\n",
        "    horizontal = board.shape[0]\n",
        "    vertical = board.shape[1]\n",
        "    board = board.flatten()\n",
        "    for i in obstacles:\n",
        "        board[i] = -1\n",
        "    board = np.reshape(board,(vertical,horizontal))\n",
        "    return board"
      ]
    },
    {
      "cell_type": "code",
      "execution_count": 103,
      "metadata": {
        "id": "epyE2vd7DeWh"
      },
      "outputs": [],
      "source": [
        "def multiplyList(l,col,row) :\n",
        "    res = col*(l[0])+l[1]\n",
        "    return res"
      ]
    },
    {
      "cell_type": "code",
      "execution_count": 104,
      "metadata": {
        "id": "IeGN2BaZDhWY"
      },
      "outputs": [],
      "source": [
        "start = [0,0]\n",
        "end = [5,5]\n",
        "\n",
        "vertical = 6\n",
        "horizontal = 6"
      ]
    },
    {
      "cell_type": "code",
      "execution_count": 105,
      "metadata": {
        "id": "V7VOmHK1Dj9p"
      },
      "outputs": [],
      "source": [
        "obstacles = intialize_obstacles(multiplyList(start,vertical,horizontal),multiplyList(end,vertical,horizontal))"
      ]
    },
    {
      "cell_type": "code",
      "execution_count": 106,
      "metadata": {
        "colab": {
          "base_uri": "https://localhost:8080/"
        },
        "id": "rO7mYpoqDooC",
        "outputId": "da85824f-2fb3-4985-957c-e7c8936968c8"
      },
      "outputs": [
        {
          "output_type": "execute_result",
          "data": {
            "text/plain": [
              "array([[ 0,  0,  0,  0, -1,  0],\n",
              "       [ 0, -1,  0,  0,  0,  0],\n",
              "       [ 0,  0,  0,  0,  0,  0],\n",
              "       [ 0,  0,  0,  0, -1,  0],\n",
              "       [ 0, -1,  0, -1,  0,  0],\n",
              "       [ 0,  0,  0, -1,  0,  0]])"
            ]
          },
          "metadata": {},
          "execution_count": 106
        }
      ],
      "source": [
        "board_with_obstacles = position_obstacles(board,obstacles)\n",
        "board_with_obstacles"
      ]
    },
    {
      "cell_type": "code",
      "execution_count": 107,
      "metadata": {
        "colab": {
          "base_uri": "https://localhost:8080/"
        },
        "id": "17nvGFCoDrAq",
        "outputId": "8357aee9-0b27-4c87-988a-5d9ab5eb5d1a"
      },
      "outputs": [
        {
          "output_type": "execute_result",
          "data": {
            "text/plain": [
              "(6, 6, 100.0)"
            ]
          },
          "metadata": {},
          "execution_count": 107
        }
      ],
      "source": [
        "rewards = np.full((horizontal,vertical),-100.)\n",
        "rewards[end[0],end[1]]= 100\n",
        "for i in range(len(board_with_obstacles)):\n",
        "    for j in range(len(board_with_obstacles[0])):\n",
        "        # print(i,j)\n",
        "        if(board_with_obstacles[i][j]==0 and rewards[i][j]!=100):\n",
        "            rewards[i][j]=-1\n",
        "\n",
        "len(board_with_obstacles),len(board_with_obstacles[0]),rewards[end[0],end[1]]"
      ]
    },
    {
      "cell_type": "code",
      "execution_count": 108,
      "metadata": {
        "colab": {
          "base_uri": "https://localhost:8080/"
        },
        "id": "8JVsvfJADtF5",
        "outputId": "2cf8cb03-1c13-4acb-9467-0d467110cead"
      },
      "outputs": [
        {
          "output_type": "execute_result",
          "data": {
            "text/plain": [
              "array([[  -1.,   -1.,   -1.,   -1., -100.,   -1.],\n",
              "       [  -1., -100.,   -1.,   -1.,   -1.,   -1.],\n",
              "       [  -1.,   -1.,   -1.,   -1.,   -1.,   -1.],\n",
              "       [  -1.,   -1.,   -1.,   -1., -100.,   -1.],\n",
              "       [  -1., -100.,   -1., -100.,   -1.,   -1.],\n",
              "       [  -1.,   -1.,   -1., -100.,   -1.,  100.]])"
            ]
          },
          "metadata": {},
          "execution_count": 108
        }
      ],
      "source": [
        "rewards"
      ]
    },
    {
      "cell_type": "code",
      "execution_count": 109,
      "metadata": {
        "colab": {
          "base_uri": "https://localhost:8080/",
          "height": 867
        },
        "id": "whT6I2eFDvhA",
        "outputId": "b03583ac-6aef-4423-fd8b-1950453619ad"
      },
      "outputs": [
        {
          "output_type": "display_data",
          "data": {
            "text/plain": [
              "<Figure size 1080x1080 with 1 Axes>"
            ],
            "image/png": "[encoded data removed]"
          },
          "metadata": {
            "needs_background": "light"
          }
        }
      ],
      "source": [
        "import matplotlib.pyplot as plt\n",
        "plt.figure(figsize=(15,15))\n",
        "plt.pcolormesh(rewards,edgecolors='b',cmap=plt.cm.hot)\n",
        "plt.xlim(0,horizontal)\n",
        "plt.ylim(vertical,0)\n",
        "plt.xticks(np.arange(0, horizontal, 1.0))\n",
        "plt.yticks(np.arange(0, vertical, 1.0))\n",
        "plt.show()"
      ]
    },
    {
      "cell_type": "code",
      "execution_count": 110,
      "metadata": {
        "id": "cGqB3NEKDzaZ"
      },
      "outputs": [],
      "source": [
        "def is_obstacle_state(current_row,current_col):\n",
        "    if(rewards[current_row,current_col]==-1):\n",
        "        return False\n",
        "    else:\n",
        "        return True"
      ]
    },
    {
      "cell_type": "code",
      "execution_count": 111,
      "metadata": {
        "id": "a-tNypkND126"
      },
      "outputs": [],
      "source": [
        "q_values = np.zeros((horizontal, vertical, 4))"
      ]
    },
    {
      "cell_type": "code",
      "execution_count": 112,
      "metadata": {
        "id": "NXLEfA7hmwTl"
      },
      "outputs": [],
      "source": [
        "def next_action(current_row_index, current_column_index, epsilon):\n",
        "    if np.random.random() < epsilon:\n",
        "        return np.argmax(q_values[current_row_index, current_column_index])\n",
        "    else: \n",
        "        return np.random.randint(4)\n",
        "    \n",
        "def get_next_cell(current_row_index, current_column_index, action_index):\n",
        "    new_row_index = current_row_index\n",
        "    new_column_index = current_column_index\n",
        "    if actions[action_index] == 'up' and current_row_index > 0:\n",
        "        new_row_index -= 1\n",
        "    elif actions[action_index] == 'right' and current_column_index < vertical - 1:\n",
        "        new_column_index += 1\n",
        "    elif actions[action_index] == 'down' and current_row_index < horizontal - 1:\n",
        "        new_row_index += 1\n",
        "    elif actions[action_index] == 'left' and current_column_index > 0:\n",
        "        new_column_index -= 1\n",
        "    return new_row_index, new_column_index\n",
        "\n",
        "def get_shortest_path(start_row_index, start_column_index):\n",
        "    if is_obstacle_state(start_row_index, start_column_index):\n",
        "        return []\n",
        "    else: \n",
        "        current_row_index, current_column_index = start_row_index, start_column_index\n",
        "        shortest_path = []\n",
        "        shortest_path.append([current_row_index, current_column_index])\n",
        "    while not is_obstacle_state(current_row_index, current_column_index):\n",
        "        action_index = next_action(current_row_index, current_column_index, 1.)\n",
        "        current_row_index, current_column_index = get_next_cell(current_row_index, current_column_index, action_index)\n",
        "        shortest_path.append([current_row_index, current_column_index])\n",
        "    return shortest_path"
      ]
    },
    {
      "cell_type": "code",
      "execution_count": 113,
      "metadata": {
        "id": "kocMpscAnovd"
      },
      "outputs": [],
      "source": [
        "lis = ['left','right','up','down']"
      ]
    },
    {
      "cell_type": "code",
      "execution_count": 114,
      "metadata": {
        "colab": {
          "base_uri": "https://localhost:8080/"
        },
        "id": "moFAz1MBm8mT",
        "outputId": "24325d2a-0bad-44ec-9c95-53d3da44af44"
      },
      "outputs": [
        {
          "output_type": "stream",
          "name": "stdout",
          "text": [
            "Training complete!\n"
          ]
        }
      ],
      "source": [
        "epsilon = 0.9\n",
        "discount_factor = 0.9\n",
        "learning_rate = 0.9\n",
        "\n",
        "all_costs = []\n",
        "all_steps = []\n",
        "\n",
        "for episode in range(2000):\n",
        "    row_index, column_index = start[0],start[1]\n",
        "    costs = 0\n",
        "    steps = 0\n",
        "\n",
        "    while not is_obstacle_state(row_index, column_index):\n",
        "        action_index = next_action(row_index, column_index, epsilon)\n",
        "        old_row_index, old_column_index = row_index, column_index \n",
        "        row_index, column_index = get_next_cell(row_index, column_index, action_index)\n",
        "        reward = rewards[row_index, column_index]\n",
        "        old_q_value = q_values[old_row_index, old_column_index, action_index]\n",
        "        new_action_index = next_action(row_index, column_index, epsilon)\n",
        "        temp = q_values[row_index, column_index, new_action_index]\n",
        "        temporal_difference = reward + (discount_factor *temp) - old_q_value\n",
        "        new_q_value = old_q_value + (learning_rate * temporal_difference)\n",
        "        q_values[old_row_index, old_column_index, action_index] = new_q_value\n",
        "        costs+=reward\n",
        "        steps+=1\n",
        "\n",
        "    # epsilon = max(epsilon * eps_decay_factor, eps_min)\n",
        "    all_steps.append(steps)\n",
        "    all_costs.append(costs)   \n",
        "print('Training complete!')"
      ]
    },
    {
      "cell_type": "code",
      "source": [
        "episode"
      ],
      "metadata": {
        "colab": {
          "base_uri": "https://localhost:8080/"
        },
        "id": "EYGs7sIZRnv2",
        "outputId": "2429ad51-c645-4837-9a83-6cabe7505585"
      },
      "execution_count": 115,
      "outputs": [
        {
          "output_type": "execute_result",
          "data": {
            "text/plain": [
              "1999"
            ]
          },
          "metadata": {},
          "execution_count": 115
        }
      ]
    },
    {
      "cell_type": "code",
      "execution_count": 116,
      "metadata": {
        "colab": {
          "base_uri": "https://localhost:8080/"
        },
        "id": "aKVbA2G0m_JD",
        "outputId": "0a6e518d-a975-4689-92ab-5da3f9b34fa0"
      },
      "outputs": [
        {
          "output_type": "execute_result",
          "data": {
            "text/plain": [
              "array([[[ -17.14069825,   -8.60019666,  -85.77055824,  -75.00135145],\n",
              "        [ -44.11146386,   19.34990066, -100.        ,  -57.42074528],\n",
              "        [ -73.26034992,   29.97402118,   25.39973901,  -83.77445356],\n",
              "        [ -83.13187255, -100.        ,   47.52825686,  -70.29168763],\n",
              "        [   0.        ,    0.        ,    0.        ,    0.        ],\n",
              "        [ -69.24788072,  -82.97650608,  -50.20838297, -100.        ]],\n",
              "\n",
              "       [[ -47.25891109, -100.        ,  -68.1198911 ,  -84.94198156],\n",
              "        [   0.        ,    0.        ,    0.        ,    0.        ],\n",
              "        [ -49.71296224,   45.16576079,  -13.60441474, -100.        ],\n",
              "        [ -45.54700147,  -82.32326897,   37.46472764,  -45.52484541],\n",
              "        [-100.        ,  -53.15922423,  -11.50929464,  -20.95452346],\n",
              "        [ -83.11170951,  -63.73925517,  -48.41655046,   -7.63764329]],\n",
              "\n",
              "       [[ -84.95022267,  -78.95654513,  -45.4115485 ,  -68.41863883],\n",
              "        [-100.        ,  -34.0338459 ,  -45.22839071,  -40.1630221 ],\n",
              "        [  36.8413749 ,  -30.41011241,  -45.05658235,  -83.70835722],\n",
              "        [ -38.78193155,   56.06277432,  -22.93963946,  -70.42593403],\n",
              "        [ -11.59456359,   69.45810296, -100.        ,   39.72452918],\n",
              "        [  -3.71154938,  -58.79968064,   79.06988174,  -24.84672115]],\n",
              "\n",
              "       [[ -66.22920074,  -36.09958184,  -83.75588198,  -73.24243965],\n",
              "        [ -21.48228559,  -68.5556233 , -100.        ,  -55.32824329],\n",
              "        [ -70.36518754,  -85.12206506,  -28.25434585,  -54.30010334],\n",
              "        [ -69.4986037 , -100.        , -100.        ,  -32.12919092],\n",
              "        [   0.        ,    0.        ,    0.        ,    0.        ],\n",
              "        [  51.82320334,   56.53328679,   88.99999991, -100.        ]],\n",
              "\n",
              "       [[ -50.93232601, -100.        ,  -70.26068455,  -85.84548687],\n",
              "        [   0.        ,    0.        ,    0.        ,    0.        ],\n",
              "        [ -29.86694069, -100.        ,  -83.17277384, -100.        ],\n",
              "        [   0.        ,    0.        ,    0.        ,    0.        ],\n",
              "        [ -99.9       ,   88.99999991,    0.        ,    0.        ],\n",
              "        [  64.38770548,   89.        ,  100.        ,   79.09999551]],\n",
              "\n",
              "       [[ -17.87328828,  -60.83916649,  -54.09787783,  -52.22054926],\n",
              "        [-100.        ,  -71.38933825,  -83.17083855,  -14.20168739],\n",
              "        [ -13.20685263, -100.        ,  -86.66925928,  -11.16960603],\n",
              "        [   0.        ,    0.        ,    0.        ,    0.        ],\n",
              "        [   0.        ,    0.        ,    0.        ,    0.        ],\n",
              "        [   0.        ,    0.        ,    0.        ,    0.        ]]])"
            ]
          },
          "metadata": {},
          "execution_count": 116
        }
      ],
      "source": [
        "q_values"
      ]
    },
    {
      "cell_type": "code",
      "execution_count": 117,
      "metadata": {
        "id": "78T5xO-VqHGR",
        "colab": {
          "base_uri": "https://localhost:8080/"
        },
        "outputId": "89330d0c-bd70-4ce8-fd32-3099849d52ce"
      },
      "outputs": [
        {
          "output_type": "stream",
          "name": "stdout",
          "text": [
            "[[0, 0], [0, 1], [0, 2], [0, 3], [1, 3], [2, 3], [2, 4], [2, 5], [3, 5], [4, 5], [5, 5]]\n"
          ]
        }
      ],
      "source": [
        "print(get_shortest_path(start[0], start[1]))"
      ]
    },
    {
      "cell_type": "code",
      "source": [
        "all_steps"
      ],
      "metadata": {
        "id": "fGxw3B3rkV-T"
      },
      "execution_count": null,
      "outputs": []
    },
    {
      "cell_type": "code",
      "execution_count": 119,
      "metadata": {
        "id": "lzAROQfznCaL"
      },
      "outputs": [],
      "source": [
        "#displaying qtable as dataframe\n",
        "\n",
        "q = np.zeros((horizontal*vertical,6))\n",
        "q_table = pd.DataFrame(q)\n",
        "q_table.columns = ['state_row','state_col','up','down','left','right']\n",
        "q_table['state_col'] = q_table['state_col'].astype(int)\n",
        "q_table['state_row'] = q_table['state_row'].astype(int)\n",
        "l=0\n",
        "for i in range(vertical*horizontal):\n",
        "    for j in range(vertical):\n",
        "        q_table['state_col'][l+j]= j\n",
        "    for k in range(horizontal):\n",
        "        q_table['state_row'][l+k]=i\n",
        "    l+=vertical"
      ]
    },
    {
      "cell_type": "code",
      "execution_count": 120,
      "metadata": {
        "id": "Y2rSEPb9nCcs"
      },
      "outputs": [],
      "source": [
        "for i in range(len(q_values[0])):\n",
        "  for j in range(len(q_values[1])):\n",
        "    index = q_table[(q_table['state_row']==i) & (q_table['state_col']==j)].index\n",
        "    index = int(index[0])\n",
        "    for k in range(4):\n",
        "       q_table.iloc[index,k+2] = q_values[i][j][k]"
      ]
    },
    {
      "cell_type": "code",
      "execution_count": 121,
      "metadata": {
        "id": "XoK8BLOqnGa7",
        "colab": {
          "base_uri": "https://localhost:8080/",
          "height": 1000
        },
        "outputId": "cc3a303b-a10c-493e-c3aa-ac03a2c545a5"
      },
      "outputs": [
        {
          "output_type": "execute_result",
          "data": {
            "text/plain": [
              "    state_row  state_col          up        down        left       right\n",
              "0           0          0  -17.140698   -8.600197  -85.770558  -75.001351\n",
              "1           0          1  -44.111464   19.349901 -100.000000  -57.420745\n",
              "2           0          2  -73.260350   29.974021   25.399739  -83.774454\n",
              "3           0          3  -83.131873 -100.000000   47.528257  -70.291688\n",
              "4           0          4    0.000000    0.000000    0.000000    0.000000\n",
              "5           0          5  -69.247881  -82.976506  -50.208383 -100.000000\n",
              "6           1          0  -47.258911 -100.000000  -68.119891  -84.941982\n",
              "7           1          1    0.000000    0.000000    0.000000    0.000000\n",
              "8           1          2  -49.712962   45.165761  -13.604415 -100.000000\n",
              "9           1          3  -45.547001  -82.323269   37.464728  -45.524845\n",
              "10          1          4 -100.000000  -53.159224  -11.509295  -20.954523\n",
              "11          1          5  -83.111710  -63.739255  -48.416550   -7.637643\n",
              "12          2          0  -84.950223  -78.956545  -45.411549  -68.418639\n",
              "13          2          1 -100.000000  -34.033846  -45.228391  -40.163022\n",
              "14          2          2   36.841375  -30.410112  -45.056582  -83.708357\n",
              "15          2          3  -38.781932   56.062774  -22.939639  -70.425934\n",
              "16          2          4  -11.594564   69.458103 -100.000000   39.724529\n",
              "17          2          5   -3.711549  -58.799681   79.069882  -24.846721\n",
              "18          3          0  -66.229201  -36.099582  -83.755882  -73.242440\n",
              "19          3          1  -21.482286  -68.555623 -100.000000  -55.328243\n",
              "20          3          2  -70.365188  -85.122065  -28.254346  -54.300103\n",
              "21          3          3  -69.498604 -100.000000 -100.000000  -32.129191\n",
              "22          3          4    0.000000    0.000000    0.000000    0.000000\n",
              "23          3          5   51.823203   56.533287   89.000000 -100.000000\n",
              "24          4          0  -50.932326 -100.000000  -70.260685  -85.845487\n",
              "25          4          1    0.000000    0.000000    0.000000    0.000000\n",
              "26          4          2  -29.866941 -100.000000  -83.172774 -100.000000\n",
              "27          4          3    0.000000    0.000000    0.000000    0.000000\n",
              "28          4          4  -99.900000   89.000000    0.000000    0.000000\n",
              "29          4          5   64.387705   89.000000  100.000000   79.099996\n",
              "30          5          0  -17.873288  -60.839166  -54.097878  -52.220549\n",
              "31          5          1 -100.000000  -71.389338  -83.170839  -14.201687\n",
              "32          5          2  -13.206853 -100.000000  -86.669259  -11.169606\n",
              "33          5          3    0.000000    0.000000    0.000000    0.000000\n",
              "34          5          4    0.000000    0.000000    0.000000    0.000000\n",
              "35          5          5    0.000000    0.000000    0.000000    0.000000"
            ],
            "text/html": [
              "\n",
              "  <div id=\"df-eca1f8cc-e730-4043-ab8b-112936e7ebc8\">\n",
              "    <div class=\"colab-df-container\">\n",
              "      <div>\n",
              "<style scoped>\n",
              "    .dataframe tbody tr th:only-of-type {\n",
              "        vertical-align: middle;\n",
              "    }\n",
              "\n",
              "    .dataframe tbody tr th {\n",
              "        vertical-align: top;\n",
              "    }\n",
              "\n",
              "    .dataframe thead th {\n",
              "        text-align: right;\n",
              "    }\n",
              "</style>\n",
              "<table border=\"1\" class=\"dataframe\">\n",
              "  <thead>\n",
              "    <tr style=\"text-align: right;\">\n",
              "      <th></th>\n",
              "      <th>state_row</th>\n",
              "      <th>state_col</th>\n",
              "      <th>up</th>\n",
              "      <th>down</th>\n",
              "      <th>left</th>\n",
              "      <th>right</th>\n",
              "    </tr>\n",
              "  </thead>\n",
              "  <tbody>\n",
              "    <tr>\n",
              "      <th>0</th>\n",
              "      <td>0</td>\n",
              "      <td>0</td>\n",
              "      <td>-17.140698</td>\n",
              "      <td>-8.600197</td>\n",
              "      <td>-85.770558</td>\n",
              "      <td>-75.001351</td>\n",
              "    </tr>\n",
              "    <tr>\n",
              "      <th>1</th>\n",
              "      <td>0</td>\n",
              "      <td>1</td>\n",
              "      <td>-44.111464</td>\n",
              "      <td>19.349901</td>\n",
              "      <td>-100.000000</td>\n",
              "      <td>-57.420745</td>\n",
              "    </tr>\n",
              "    <tr>\n",
              "      <th>2</th>\n",
              "      <td>0</td>\n",
              "      <td>2</td>\n",
              "      <td>-73.260350</td>\n",
              "      <td>29.974021</td>\n",
              "      <td>25.399739</td>\n",
              "      <td>-83.774454</td>\n",
              "    </tr>\n",
              "    <tr>\n",
              "      <th>3</th>\n",
              "      <td>0</td>\n",
              "      <td>3</td>\n",
              "      <td>-83.131873</td>\n",
              "      <td>-100.000000</td>\n",
              "      <td>47.528257</td>\n",
              "      <td>-70.291688</td>\n",
              "    </tr>\n",
              "    <tr>\n",
              "      <th>4</th>\n",
              "      <td>0</td>\n",
              "      <td>4</td>\n",
              "      <td>0.000000</td>\n",
              "      <td>0.000000</td>\n",
              "      <td>0.000000</td>\n",
              "      <td>0.000000</td>\n",
              "    </tr>\n",
              "    <tr>\n",
              "      <th>5</th>\n",
              "      <td>0</td>\n",
              "      <td>5</td>\n",
              "      <td>-69.247881</td>\n",
              "      <td>-82.976506</td>\n",
              "      <td>-50.208383</td>\n",
              "      <td>-100.000000</td>\n",
              "    </tr>\n",
              "    <tr>\n",
              "      <th>6</th>\n",
              "      <td>1</td>\n",
              "      <td>0</td>\n",
              "      <td>-47.258911</td>\n",
              "      <td>-100.000000</td>\n",
              "      <td>-68.119891</td>\n",
              "      <td>-84.941982</td>\n",
              "    </tr>\n",
              "    <tr>\n",
              "      <th>7</th>\n",
              "      <td>1</td>\n",
              "      <td>1</td>\n",
              "      <td>0.000000</td>\n",
              "      <td>0.000000</td>\n",
              "      <td>0.000000</td>\n",
              "      <td>0.000000</td>\n",
              "    </tr>\n",
              "    <tr>\n",
              "      <th>8</th>\n",
              "      <td>1</td>\n",
              "      <td>2</td>\n",
              "      <td>-49.712962</td>\n",
              "      <td>45.165761</td>\n",
              "      <td>-13.604415</td>\n",
              "      <td>-100.000000</td>\n",
              "    </tr>\n",
              "    <tr>\n",
              "      <th>9</th>\n",
              "      <td>1</td>\n",
              "      <td>3</td>\n",
              "      <td>-45.547001</td>\n",
              "      <td>-82.323269</td>\n",
              "      <td>37.464728</td>\n",
              "      <td>-45.524845</td>\n",
              "    </tr>\n",
              "    <tr>\n",
              "      <th>10</th>\n",
              "      <td>1</td>\n",
              "      <td>4</td>\n",
              "      <td>-100.000000</td>\n",
              "      <td>-53.159224</td>\n",
              "      <td>-11.509295</td>\n",
              "      <td>-20.954523</td>\n",
              "    </tr>\n",
              "    <tr>\n",
              "      <th>11</th>\n",
              "      <td>1</td>\n",
              "      <td>5</td>\n",
              "      <td>-83.111710</td>\n",
              "      <td>-63.739255</td>\n",
              "      <td>-48.416550</td>\n",
              "      <td>-7.637643</td>\n",
              "    </tr>\n",
              "    <tr>\n",
              "      <th>12</th>\n",
              "      <td>2</td>\n",
              "      <td>0</td>\n",
              "      <td>-84.950223</td>\n",
              "      <td>-78.956545</td>\n",
              "      <td>-45.411549</td>\n",
              "      <td>-68.418639</td>\n",
              "    </tr>\n",
              "    <tr>\n",
              "      <th>13</th>\n",
              "      <td>2</td>\n",
              "      <td>1</td>\n",
              "      <td>-100.000000</td>\n",
              "      <td>-34.033846</td>\n",
              "      <td>-45.228391</td>\n",
              "      <td>-40.163022</td>\n",
              "    </tr>\n",
              "    <tr>\n",
              "      <th>14</th>\n",
              "      <td>2</td>\n",
              "      <td>2</td>\n",
              "      <td>36.841375</td>\n",
              "      <td>-30.410112</td>\n",
              "      <td>-45.056582</td>\n",
              "      <td>-83.708357</td>\n",
              "    </tr>\n",
              "    <tr>\n",
              "      <th>15</th>\n",
              "      <td>2</td>\n",
              "      <td>3</td>\n",
              "      <td>-38.781932</td>\n",
              "      <td>56.062774</td>\n",
              "      <td>-22.939639</td>\n",
              "      <td>-70.425934</td>\n",
              "    </tr>\n",
              "    <tr>\n",
              "      <th>16</th>\n",
              "      <td>2</td>\n",
              "      <td>4</td>\n",
              "      <td>-11.594564</td>\n",
              "      <td>69.458103</td>\n",
              "      <td>-100.000000</td>\n",
              "      <td>39.724529</td>\n",
              "    </tr>\n",
              "    <tr>\n",
              "      <th>17</th>\n",
              "      <td>2</td>\n",
              "      <td>5</td>\n",
              "      <td>-3.711549</td>\n",
              "      <td>-58.799681</td>\n",
              "      <td>79.069882</td>\n",
              "      <td>-24.846721</td>\n",
              "    </tr>\n",
              "    <tr>\n",
              "      <th>18</th>\n",
              "      <td>3</td>\n",
              "      <td>0</td>\n",
              "      <td>-66.229201</td>\n",
              "      <td>-36.099582</td>\n",
              "      <td>-83.755882</td>\n",
              "      <td>-73.242440</td>\n",
              "    </tr>\n",
              "    <tr>\n",
              "      <th>19</th>\n",
              "      <td>3</td>\n",
              "      <td>1</td>\n",
              "      <td>-21.482286</td>\n",
              "      <td>-68.555623</td>\n",
              "      <td>-100.000000</td>\n",
              "      <td>-55.328243</td>\n",
              "    </tr>\n",
              "    <tr>\n",
              "      <th>20</th>\n",
              "      <td>3</td>\n",
              "      <td>2</td>\n",
              "      <td>-70.365188</td>\n",
              "      <td>-85.122065</td>\n",
              "      <td>-28.254346</td>\n",
              "      <td>-54.300103</td>\n",
              "    </tr>\n",
              "    <tr>\n",
              "      <th>21</th>\n",
              "      <td>3</td>\n",
              "      <td>3</td>\n",
              "      <td>-69.498604</td>\n",
              "      <td>-100.000000</td>\n",
              "      <td>-100.000000</td>\n",
              "      <td>-32.129191</td>\n",
              "    </tr>\n",
              "    <tr>\n",
              "      <th>22</th>\n",
              "      <td>3</td>\n",
              "      <td>4</td>\n",
              "      <td>0.000000</td>\n",
              "      <td>0.000000</td>\n",
              "      <td>0.000000</td>\n",
              "      <td>0.000000</td>\n",
              "    </tr>\n",
              "    <tr>\n",
              "      <th>23</th>\n",
              "      <td>3</td>\n",
              "      <td>5</td>\n",
              "      <td>51.823203</td>\n",
              "      <td>56.533287</td>\n",
              "      <td>89.000000</td>\n",
              "      <td>-100.000000</td>\n",
              "    </tr>\n",
              "    <tr>\n",
              "      <th>24</th>\n",
              "      <td>4</td>\n",
              "      <td>0</td>\n",
              "      <td>-50.932326</td>\n",
              "      <td>-100.000000</td>\n",
              "      <td>-70.260685</td>\n",
              "      <td>-85.845487</td>\n",
              "    </tr>\n",
              "    <tr>\n",
              "      <th>25</th>\n",
              "      <td>4</td>\n",
              "      <td>1</td>\n",
              "      <td>0.000000</td>\n",
              "      <td>0.000000</td>\n",
              "      <td>0.000000</td>\n",
              "      <td>0.000000</td>\n",
              "    </tr>\n",
              "    <tr>\n",
              "      <th>26</th>\n",
              "      <td>4</td>\n",
              "      <td>2</td>\n",
              "      <td>-29.866941</td>\n",
              "      <td>-100.000000</td>\n",
              "      <td>-83.172774</td>\n",
              "      <td>-100.000000</td>\n",
              "    </tr>\n",
              "    <tr>\n",
              "      <th>27</th>\n",
              "      <td>4</td>\n",
              "      <td>3</td>\n",
              "      <td>0.000000</td>\n",
              "      <td>0.000000</td>\n",
              "      <td>0.000000</td>\n",
              "      <td>0.000000</td>\n",
              "    </tr>\n",
              "    <tr>\n",
              "      <th>28</th>\n",
              "      <td>4</td>\n",
              "      <td>4</td>\n",
              "      <td>-99.900000</td>\n",
              "      <td>89.000000</td>\n",
              "      <td>0.000000</td>\n",
              "      <td>0.000000</td>\n",
              "    </tr>\n",
              "    <tr>\n",
              "      <th>29</th>\n",
              "      <td>4</td>\n",
              "      <td>5</td>\n",
              "      <td>64.387705</td>\n",
              "      <td>89.000000</td>\n",
              "      <td>100.000000</td>\n",
              "      <td>79.099996</td>\n",
              "    </tr>\n",
              "    <tr>\n",
              "      <th>30</th>\n",
              "      <td>5</td>\n",
              "      <td>0</td>\n",
              "      <td>-17.873288</td>\n",
              "      <td>-60.839166</td>\n",
              "      <td>-54.097878</td>\n",
              "      <td>-52.220549</td>\n",
              "    </tr>\n",
              "    <tr>\n",
              "      <th>31</th>\n",
              "      <td>5</td>\n",
              "      <td>1</td>\n",
              "      <td>-100.000000</td>\n",
              "      <td>-71.389338</td>\n",
              "      <td>-83.170839</td>\n",
              "      <td>-14.201687</td>\n",
              "    </tr>\n",
              "    <tr>\n",
              "      <th>32</th>\n",
              "      <td>5</td>\n",
              "      <td>2</td>\n",
              "      <td>-13.206853</td>\n",
              "      <td>-100.000000</td>\n",
              "      <td>-86.669259</td>\n",
              "      <td>-11.169606</td>\n",
              "    </tr>\n",
              "    <tr>\n",
              "      <th>33</th>\n",
              "      <td>5</td>\n",
              "      <td>3</td>\n",
              "      <td>0.000000</td>\n",
              "      <td>0.000000</td>\n",
              "      <td>0.000000</td>\n",
              "      <td>0.000000</td>\n",
              "    </tr>\n",
              "    <tr>\n",
              "      <th>34</th>\n",
              "      <td>5</td>\n",
              "      <td>4</td>\n",
              "      <td>0.000000</td>\n",
              "      <td>0.000000</td>\n",
              "      <td>0.000000</td>\n",
              "      <td>0.000000</td>\n",
              "    </tr>\n",
              "    <tr>\n",
              "      <th>35</th>\n",
              "      <td>5</td>\n",
              "      <td>5</td>\n",
              "      <td>0.000000</td>\n",
              "      <td>0.000000</td>\n",
              "      <td>0.000000</td>\n",
              "      <td>0.000000</td>\n",
              "    </tr>\n",
              "  </tbody>\n",
              "</table>\n",
              "</div>\n",
              "      <button class=\"colab-df-convert\" onclick=\"convertToInteractive('df-eca1f8cc-e730-4043-ab8b-112936e7ebc8')\"\n",
              "              title=\"Convert this dataframe to an interactive table.\"\n",
              "              style=\"display:none;\">\n",
              "        \n",
              "  <svg xmlns=\"http://www.w3.org/2000/svg\" height=\"24px\"viewBox=\"0 0 24 24\"\n",
              "       width=\"24px\">\n",
              "    <path d=\"M0 0h24v24H0V0z\" fill=\"none\"/>\n",
              "    <path d=\"M18.56 5.44l.94 2.06.94-2.06 2.06-.94-2.06-.94-.94-2.06-.94 2.06-2.06.94zm-11 1L8.5 8.5l.94-2.06 2.06-.94-2.06-.94L8.5 2.5l-.94 2.06-2.06.94zm10 10l.94 2.06.94-2.06 2.06-.94-2.06-.94-.94-2.06-.94 2.06-2.06.94z\"/><path d=\"M17.41 7.96l-1.37-1.37c-.4-.4-.92-.59-1.43-.59-.52 0-1.04.2-1.43.59L10.3 9.45l-7.72 7.72c-.78.78-.78 2.05 0 2.83L4 21.41c.39.39.9.59 1.41.59.51 0 1.02-.2 1.41-.59l7.78-7.78 2.81-2.81c.8-.78.8-2.07 0-2.86zM5.41 20L4 18.59l7.72-7.72 1.47 1.35L5.41 20z\"/>\n",
              "  </svg>\n",
              "      </button>\n",
              "      \n",
              "  <style>\n",
              "    .colab-df-container {\n",
              "      display:flex;\n",
              "      flex-wrap:wrap;\n",
              "      gap: 12px;\n",
              "    }\n",
              "\n",
              "    .colab-df-convert {\n",
              "      background-color: #E8F0FE;\n",
              "      border: none;\n",
              "      border-radius: 50%;\n",
              "      cursor: pointer;\n",
              "      display: none;\n",
              "      fill: #1967D2;\n",
              "      height: 32px;\n",
              "      padding: 0 0 0 0;\n",
              "      width: 32px;\n",
              "    }\n",
              "\n",
              "    .colab-df-convert:hover {\n",
              "      background-color: #E2EBFA;\n",
              "      box-shadow: 0px 1px 2px rgba(60, 64, 67, 0.3), 0px 1px 3px 1px rgba(60, 64, 67, 0.15);\n",
              "      fill: #174EA6;\n",
              "    }\n",
              "\n",
              "    [theme=dark] .colab-df-convert {\n",
              "      background-color: #3B4455;\n",
              "      fill: #D2E3FC;\n",
              "    }\n",
              "\n",
              "    [theme=dark] .colab-df-convert:hover {\n",
              "      background-color: #434B5C;\n",
              "      box-shadow: 0px 1px 3px 1px rgba(0, 0, 0, 0.15);\n",
              "      filter: drop-shadow(0px 1px 2px rgba(0, 0, 0, 0.3));\n",
              "      fill: #FFFFFF;\n",
              "    }\n",
              "  </style>\n",
              "\n",
              "      <script>\n",
              "        const buttonEl =\n",
              "          document.querySelector('#df-eca1f8cc-e730-4043-ab8b-112936e7ebc8 button.colab-df-convert');\n",
              "        buttonEl.style.display =\n",
              "          google.colab.kernel.accessAllowed ? 'block' : 'none';\n",
              "\n",
              "        async function convertToInteractive(key) {\n",
              "          const element = document.querySelector('#df-eca1f8cc-e730-4043-ab8b-112936e7ebc8');\n",
              "          const dataTable =\n",
              "            await google.colab.kernel.invokeFunction('convertToInteractive',\n",
              "                                                     [key], {});\n",
              "          if (!dataTable) return;\n",
              "\n",
              "          const docLinkHtml = 'Like what you see? Visit the ' +\n",
              "            '<a target=\"_blank\" href=https://colab.research.google.com/notebooks/data_table.ipynb>data table notebook</a>'\n",
              "            + ' to learn more about interactive tables.';\n",
              "          element.innerHTML = '';\n",
              "          dataTable['output_type'] = 'display_data';\n",
              "          await google.colab.output.renderOutput(dataTable, element);\n",
              "          const docLink = document.createElement('div');\n",
              "          docLink.innerHTML = docLinkHtml;\n",
              "          element.appendChild(docLink);\n",
              "        }\n",
              "      </script>\n",
              "    </div>\n",
              "  </div>\n",
              "  "
            ]
          },
          "metadata": {},
          "execution_count": 121
        }
      ],
      "source": [
        "q_table"
      ]
    },
    {
      "cell_type": "code",
      "execution_count": 122,
      "metadata": {
        "id": "tHfJcmVjnGdL"
      },
      "outputs": [],
      "source": [
        "list1  = get_shortest_path(start[0], start[1])"
      ]
    },
    {
      "cell_type": "code",
      "execution_count": 123,
      "metadata": {
        "id": "yC_Cq3SonK2U"
      },
      "outputs": [],
      "source": [
        "action_direction = dict()\n",
        "for i in range(len(list1)-1):\n",
        "  if(list1[i][0] - list1[i+1][0] == -1):\n",
        "    action_direction[(list1[i][0],list1[i][1])] = \"LEFT\"\n",
        "  elif(list1[i][0] - list1[i+1][0] == 1):\n",
        "    action_direction[(list1[i][0],list1[i][1])] = \"RIGHT\"\n",
        "  elif(list1[i][1] - list1[i+1][1] == -1):\n",
        "    action_direction[(list1[i][0],list1[i][1])] = \"UP\"\n",
        "  elif(list1[i][1] - list1[i+1][1] == 1):\n",
        "    action_direction[(list1[i][0],list1[i][1])] = \"DOWN\""
      ]
    },
    {
      "cell_type": "code",
      "execution_count": 124,
      "metadata": {
        "id": "M7SpnlcrnK6d",
        "colab": {
          "base_uri": "https://localhost:8080/"
        },
        "outputId": "f174f939-a2cc-4d7e-f831-45402ab3abdc"
      },
      "outputs": [
        {
          "output_type": "execute_result",
          "data": {
            "text/plain": [
              "{(0, 0): 'UP',\n",
              " (0, 1): 'UP',\n",
              " (0, 2): 'UP',\n",
              " (0, 3): 'LEFT',\n",
              " (1, 3): 'LEFT',\n",
              " (2, 3): 'UP',\n",
              " (2, 4): 'UP',\n",
              " (2, 5): 'LEFT',\n",
              " (3, 5): 'LEFT',\n",
              " (4, 5): 'LEFT'}"
            ]
          },
          "metadata": {},
          "execution_count": 124
        }
      ],
      "source": [
        "action_direction"
      ]
    },
    {
      "cell_type": "code",
      "execution_count": 125,
      "metadata": {
        "id": "ehRAGQQpnK9L"
      },
      "outputs": [],
      "source": [
        "direction_map = {\n",
        "    'UP'   : ( 0, 1),\n",
        "    'DOWN' : ( 0,-1),\n",
        "    'RIGHT': ( 1, 0),\n",
        "    'LEFT' : (-1, 0)\n",
        "}"
      ]
    },
    {
      "cell_type": "code",
      "execution_count": 126,
      "metadata": {
        "id": "lcB8Qcy-nSK0",
        "colab": {
          "base_uri": "https://localhost:8080/",
          "height": 867
        },
        "outputId": "dcb3eb06-3e5b-43c8-cafc-982638a06a07"
      },
      "outputs": [
        {
          "output_type": "display_data",
          "data": {
            "text/plain": [
              "<Figure size 1080x1080 with 1 Axes>"
            ],
            "image/png": "[encoded data removed]"
          },
          "metadata": {
            "needs_background": "light"
          }
        }
      ],
      "source": [
        "def arrow_position(location, arrow_direction):\n",
        "    if arrow_direction == 'UP':\n",
        "        correction = (.5, .3)\n",
        "    elif arrow_direction == 'DOWN':\n",
        "        correction = (.6, .3)\n",
        "    elif arrow_direction == 'RIGHT':\n",
        "        correction = (.4, .5)\n",
        "    elif arrow_direction == 'LEFT':\n",
        "        correction = (.6, .5)\n",
        "    return (location[0]+correction[0],\n",
        "            location[1]+correction[1])\n",
        "\n",
        "\n",
        "fig, ax = plt.subplots(figsize=(15,15))\n",
        "plt.pcolormesh(rewards,edgecolor='b',cmap=plt.cm.hot)\n",
        "plt.xlim(0,horizontal)\n",
        "plt.ylim(vertical,0)\n",
        "# plt.grid(True)\n",
        "plt.xticks(np.arange(0, horizontal, 1.0))\n",
        "plt.yticks(np.arange(0, vertical, 1.0))\n",
        "\n",
        "locations = action_direction.keys()\n",
        "for location in locations:\n",
        "    arrow_direction = action_direction[location]\n",
        "    x_pos, y_pos = arrow_position(location, arrow_direction)\n",
        "    x_direct, y_direct = direction_map[arrow_direction]\n",
        "    ax.quiver(\n",
        "        y_pos,x_pos,\n",
        "        y_direct,x_direct,\n",
        "        scale=30)\n",
        "\n",
        "# plt.figure(figsize=(15,15))\n",
        "plt.show()"
      ]
    },
    {
      "cell_type": "code",
      "source": [
        "episodes = []\n",
        "for i in range(0,2000):\n",
        "  episodes.append(i)"
      ],
      "metadata": {
        "id": "CYKXS7c7jaNZ"
      },
      "execution_count": 127,
      "outputs": []
    },
    {
      "cell_type": "code",
      "source": [
        "import matplotlib.pyplot as plt\n",
        "plt.figure(figsize=(10,10))\n",
        "plt.plot(episodes,all_steps)\n",
        "plt.xlabel(\"Episodes\")\n",
        "plt.ylabel(\"Steps per Episode\")\n",
        "plt.show()"
      ],
      "metadata": {
        "id": "PrTLTKxbjMEq",
        "colab": {
          "base_uri": "https://localhost:8080/",
          "height": 606
        },
        "outputId": "383818ae-a595-4f44-b15d-9229ec7d3d8f"
      },
      "execution_count": 128,
      "outputs": [
        {
          "output_type": "display_data",
          "data": {
            "text/plain": [
              "<Figure size 720x720 with 1 Axes>"
            ],
            "image/png": "[encoded data removed]"
          },
          "metadata": {
            "needs_background": "light"
          }
        }
      ]
    },
    {
      "cell_type": "code",
      "source": [
        "plt.figure(figsize=(10,10))\n",
        "plt.plot(episodes,all_costs)\n",
        "plt.xlabel(\"Episodes\")\n",
        "plt.ylabel(\"Reward per Episode\")\n",
        "plt.show()"
      ],
      "metadata": {
        "id": "f_wJWdgmtczH",
        "colab": {
          "base_uri": "https://localhost:8080/",
          "height": 606
        },
        "outputId": "f042b6e7-3c5c-4b95-d079-b75abb8f2628"
      },
      "execution_count": 129,
      "outputs": [
        {
          "output_type": "display_data",
          "data": {
            "text/plain": [
              "<Figure size 720x720 with 1 Axes>"
            ],
            "image/png": "[encoded data removed]"
          },
          "metadata": {
            "needs_background": "light"
          }
        }
      ]
    }
  ],
  "metadata": {
    "accelerator": "GPU",
    "colab": {
      "collapsed_sections": [],
      "name": "SARSA_with_simulation_ep=.9.ipynb",
      "provenance": []
    },
    "kernelspec": {
      "display_name": "Python 3",
      "name": "python3"
    },
    "language_info": {
      "name": "python"
    }
  },
  "nbformat": 4,
  "nbformat_minor": 0
}