{
 "cells": [
  {
   "cell_type": "markdown",
   "metadata": {
    "id": "gDi1I_hUy7Kw"
   },
   "source": [
    "### Importing the libraries"
   ]
  },
  {
   "cell_type": "code",
   "execution_count": 34,
   "metadata": {
    "id": "fd274169"
   },
   "outputs": [],
   "source": [
    "import numpy as np\n",
    "import pandas as pd\n",
    "import matplotlib.pyplot as plt\n",
    "import random\n",
    "import warnings\n",
    "warnings.filterwarnings(\"ignore\")"
   ]
  },
  {
   "cell_type": "markdown",
   "metadata": {
    "id": "Q963XkTfzMSh"
   },
   "source": [
    "### Creating the path grid"
   ]
  },
  {
   "cell_type": "code",
   "execution_count": 35,
   "metadata": {
    "id": "c3c45c0f"
   },
   "outputs": [],
   "source": [
    "#create a user defined grid of size m*n\n",
    "def create_board(vertical,horizontal):\n",
    "    board = [[0 for column in range(vertical)] for  cell in range(horizontal)]\n",
    "    board = np.array(board)\n",
    "    return board"
   ]
  },
  {
   "cell_type": "code",
   "execution_count": 36,
   "metadata": {
    "colab": {
     "base_uri": "https://localhost:8080/"
    },
    "id": "97024164",
    "outputId": "8aaab7de-51e2-4177-ac40-4e9f3a31cb3b"
   },
   "outputs": [
    {
     "data": {
      "text/plain": [
       "array([[0, 0, 0, 0, 0, 0],\n",
       "       [0, 0, 0, 0, 0, 0],\n",
       "       [0, 0, 0, 0, 0, 0],\n",
       "       [0, 0, 0, 0, 0, 0],\n",
       "       [0, 0, 0, 0, 0, 0],\n",
       "       [0, 0, 0, 0, 0, 0]])"
      ]
     },
     "execution_count": 36,
     "metadata": {},
     "output_type": "execute_result"
    }
   ],
   "source": [
    "board = create_board(6,6)\n",
    "board"
   ]
  },
  {
   "cell_type": "code",
   "execution_count": 37,
   "metadata": {
    "id": "b73c4672"
   },
   "outputs": [],
   "source": [
    "actions = ['up', 'right', 'down', 'left']"
   ]
  },
  {
   "cell_type": "markdown",
   "metadata": {
    "id": "lX8HjTs1zSTP"
   },
   "source": [
    "### Initializing the obstacles in the path"
   ]
  },
  {
   "cell_type": "code",
   "execution_count": 38,
   "metadata": {
    "id": "89dc47a9"
   },
   "outputs": [],
   "source": [
    "def intialize_obstacles(start,end):\n",
    "    obstacles = []\n",
    "    limit = int((board.shape[0]*board.shape[1])/4)\n",
    "    count = 0\n",
    "    while(count!=limit):\n",
    "        ran = np.random.randint((board.shape[0]*board.shape[1]))\n",
    "        if(ran!=start and ran!=end and ran not in obstacles):\n",
    "            obstacles.append(ran)\n",
    "            count+=1\n",
    "        else:\n",
    "            continue\n",
    "    return obstacles"
   ]
  },
  {
   "cell_type": "code",
   "execution_count": 39,
   "metadata": {
    "id": "e9d929b3"
   },
   "outputs": [],
   "source": [
    "def position_obstacles(board,obstacles):\n",
    "    horizontal = board.shape[0]\n",
    "    vertical = board.shape[1]\n",
    "    board = board.flatten()\n",
    "    for i in obstacles:\n",
    "        board[i] = -1\n",
    "    board = np.reshape(board,(vertical,horizontal))\n",
    "    return board"
   ]
  },
  {
   "cell_type": "code",
   "execution_count": 40,
   "metadata": {
    "id": "c67253cd"
   },
   "outputs": [],
   "source": [
    "def multiplyList(l,col,row) :\n",
    "    res = col*(l[0])+l[1]\n",
    "    return res"
   ]
  },
  {
   "cell_type": "markdown",
   "metadata": {
    "id": "i2FrU8cpzZXh"
   },
   "source": [
    "Setting the start and end parameters"
   ]
  },
  {
   "cell_type": "code",
   "execution_count": 41,
   "metadata": {
    "id": "ea08919c"
   },
   "outputs": [],
   "source": [
    "start = [0,0]\n",
    "end = [5,5]\n",
    "\n",
    "vertical = 6\n",
    "horizontal = 6"
   ]
  },
  {
   "cell_type": "code",
   "execution_count": 42,
   "metadata": {
    "id": "9dc6d6c6"
   },
   "outputs": [],
   "source": [
    "obstacles = intialize_obstacles(multiplyList(start,vertical,horizontal),multiplyList(end,vertical,horizontal))"
   ]
  },
  {
   "cell_type": "code",
   "execution_count": 43,
   "metadata": {
    "colab": {
     "base_uri": "https://localhost:8080/"
    },
    "id": "39f79946",
    "outputId": "e7893fbf-fac2-46d4-ed88-f256df52c5ce"
   },
   "outputs": [
    {
     "data": {
      "text/plain": [
       "array([[ 0,  0,  0,  0, -1, -1],\n",
       "       [ 0,  0,  0,  0,  0, -1],\n",
       "       [ 0,  0,  0,  0, -1, -1],\n",
       "       [-1, -1,  0, -1,  0,  0],\n",
       "       [ 0,  0,  0,  0,  0,  0],\n",
       "       [-1,  0,  0,  0,  0,  0]])"
      ]
     },
     "execution_count": 43,
     "metadata": {},
     "output_type": "execute_result"
    }
   ],
   "source": [
    "board_with_obstacles = position_obstacles(board,obstacles)\n",
    "board_with_obstacles"
   ]
  },
  {
   "cell_type": "code",
   "execution_count": 44,
   "metadata": {
    "colab": {
     "base_uri": "https://localhost:8080/"
    },
    "id": "52c5b21f",
    "outputId": "03a4afff-06df-41cd-adca-64cefc17d288"
   },
   "outputs": [
    {
     "data": {
      "text/plain": [
       "(6, 6, 100.0)"
      ]
     },
     "execution_count": 44,
     "metadata": {},
     "output_type": "execute_result"
    }
   ],
   "source": [
    "rewards = np.full((horizontal,vertical),-100.)\n",
    "rewards[end[0],end[1]]= 100\n",
    "for i in range(len(board_with_obstacles)):\n",
    "    for j in range(len(board_with_obstacles[0])):\n",
    "        # print(i,j)\n",
    "        if(board_with_obstacles[i][j]==0 and rewards[i][j]!=100):\n",
    "            rewards[i][j]=-1\n",
    "\n",
    "len(board_with_obstacles),len(board_with_obstacles[0]),rewards[end[0],end[1]]"
   ]
  },
  {
   "cell_type": "code",
   "execution_count": 45,
   "metadata": {
    "colab": {
     "base_uri": "https://localhost:8080/"
    },
    "id": "XwooXAdcJat6",
    "outputId": "b33b3880-2c78-4bef-d17f-3680033ff5ef"
   },
   "outputs": [
    {
     "data": {
      "text/plain": [
       "array([[  -1.,   -1.,   -1.,   -1., -100., -100.],\n",
       "       [  -1.,   -1.,   -1.,   -1.,   -1., -100.],\n",
       "       [  -1.,   -1.,   -1.,   -1., -100., -100.],\n",
       "       [-100., -100.,   -1., -100.,   -1.,   -1.],\n",
       "       [  -1.,   -1.,   -1.,   -1.,   -1.,   -1.],\n",
       "       [-100.,   -1.,   -1.,   -1.,   -1.,  100.]])"
      ]
     },
     "execution_count": 45,
     "metadata": {},
     "output_type": "execute_result"
    }
   ],
   "source": [
    "rewards"
   ]
  },
  {
   "cell_type": "code",
   "execution_count": 46,
   "metadata": {
    "colab": {
     "base_uri": "https://localhost:8080/",
     "height": 867
    },
    "id": "44ae6516",
    "outputId": "da7438ca-6781-4521-f080-086bf9575e22"
   },
   "outputs": [
    {
     "data": {
      "image/png": "[encoded data removed]",
      "text/plain": [
       "<Figure size 1080x1080 with 1 Axes>"
      ]
     },
     "metadata": {
      "needs_background": "light"
     },
     "output_type": "display_data"
    }
   ],
   "source": [
    "import matplotlib.pyplot as plt\n",
    "plt.figure(figsize=(15,15))\n",
    "plt.pcolormesh(rewards,edgecolors='b',cmap=plt.cm.hot)\n",
    "plt.xlim(0,horizontal)\n",
    "plt.ylim(vertical,0)\n",
    "plt.xticks(np.arange(0, horizontal, 1.0))\n",
    "plt.yticks(np.arange(0, vertical, 1.0))\n",
    "plt.show()"
   ]
  },
  {
   "cell_type": "code",
   "execution_count": 47,
   "metadata": {
    "id": "45f4f780"
   },
   "outputs": [],
   "source": [
    "def is_obstacle_state(current_row,current_col):\n",
    "    if(rewards[current_row,current_col]==-1):\n",
    "        return False\n",
    "    else:\n",
    "        return True"
   ]
  },
  {
   "cell_type": "code",
   "execution_count": 48,
   "metadata": {
    "id": "5b2c0c21"
   },
   "outputs": [],
   "source": [
    "q_values = np.zeros((horizontal, vertical, 4))"
   ]
  },
  {
   "cell_type": "code",
   "execution_count": 49,
   "metadata": {
    "id": "0d761bbf"
   },
   "outputs": [],
   "source": [
    "def next_action(current_row_index, current_column_index, epsilon):\n",
    "    if np.random.random() < epsilon:\n",
    "        return np.argmax(q_values[current_row_index, current_column_index])\n",
    "    else: \n",
    "        return np.random.randint(4)\n",
    "    \n",
    "def get_next_cell(current_row_index, current_column_index, action_index):\n",
    "    new_row_index = current_row_index\n",
    "    new_column_index = current_column_index\n",
    "    if actions[action_index] == 'up' and current_row_index > 0:\n",
    "        new_row_index -= 1\n",
    "    elif actions[action_index] == 'right' and current_column_index < vertical - 1:\n",
    "        new_column_index += 1\n",
    "    elif actions[action_index] == 'down' and current_row_index < horizontal - 1:\n",
    "        new_row_index += 1\n",
    "    elif actions[action_index] == 'left' and current_column_index > 0:\n",
    "        new_column_index -= 1\n",
    "    return new_row_index, new_column_index\n",
    "\n",
    "def get_shortest_path(start_row_index, start_column_index):\n",
    "    if is_obstacle_state(start_row_index, start_column_index):\n",
    "        return []\n",
    "    else: \n",
    "        current_row_index, current_column_index = start_row_index, start_column_index\n",
    "        shortest_path = []\n",
    "        shortest_path.append([current_row_index, current_column_index])\n",
    "    while not is_obstacle_state(current_row_index, current_column_index):\n",
    "        action_index = next_action(current_row_index, current_column_index, 1.)\n",
    "        current_row_index, current_column_index = get_next_cell(current_row_index, current_column_index, action_index)\n",
    "        shortest_path.append([current_row_index, current_column_index])\n",
    "    return shortest_path"
   ]
  },
  {
   "cell_type": "code",
   "execution_count": 50,
   "metadata": {
    "colab": {
     "base_uri": "https://localhost:8080/"
    },
    "id": "7N50H2HOMQRp",
    "outputId": "a7349ac5-0d1a-4fac-fb48-c56fa1ffb3de"
   },
   "outputs": [
    {
     "data": {
      "text/plain": [
       "(0, 0)"
      ]
     },
     "execution_count": 50,
     "metadata": {},
     "output_type": "execute_result"
    }
   ],
   "source": [
    "start[0],start[1]"
   ]
  },
  {
   "cell_type": "code",
   "execution_count": 51,
   "metadata": {
    "colab": {
     "base_uri": "https://localhost:8080/"
    },
    "id": "E6Tnxt3LMTm0",
    "outputId": "5e819137-9b84-4ff8-e0cb-80e877e424a2"
   },
   "outputs": [
    {
     "data": {
      "text/plain": [
       "(5, 5)"
      ]
     },
     "execution_count": 51,
     "metadata": {},
     "output_type": "execute_result"
    }
   ],
   "source": [
    "end[0],end[1]"
   ]
  },
  {
   "cell_type": "code",
   "execution_count": 52,
   "metadata": {
    "colab": {
     "base_uri": "https://localhost:8080/"
    },
    "id": "3499dc2d",
    "outputId": "fa77b474-8fbf-4056-e4cd-5273e0414a7b"
   },
   "outputs": [
    {
     "name": "stdout",
     "output_type": "stream",
     "text": [
      "Training complete!\n"
     ]
    }
   ],
   "source": [
    "epsilon = 1.0\n",
    "discount_factor = 0.9\n",
    "learning_rate = 0.1\n",
    "\n",
    "all_steps = []\n",
    "all_costs = []\n",
    "\n",
    "for episode in range(2000):\n",
    "    row_index, column_index = start[0],start[1]\n",
    "    steps = 0\n",
    "    costs = 0\n",
    "    while not is_obstacle_state(row_index, column_index):\n",
    "        action_index = next_action(row_index, column_index, epsilon)\n",
    "        old_row_index, old_column_index = row_index, column_index \n",
    "        row_index, column_index = get_next_cell(row_index, column_index, action_index)\n",
    "        reward = rewards[row_index, column_index]\n",
    "        old_q_value = q_values[old_row_index, old_column_index, action_index]\n",
    "        temporal_difference = reward + (discount_factor * np.max(q_values[row_index, column_index])) - old_q_value\n",
    "        new_q_value = old_q_value + (learning_rate * temporal_difference)\n",
    "        q_values[old_row_index, old_column_index, action_index] = new_q_value\n",
    "        steps+=1\n",
    "        costs+=reward\n",
    "    all_steps.append(steps)\n",
    "    all_costs.append(costs)\n",
    "print('Training complete!')"
   ]
  },
  {
   "cell_type": "code",
   "execution_count": 53,
   "metadata": {
    "colab": {
     "base_uri": "https://localhost:8080/"
    },
    "id": "s_L3c2fwL4tW",
    "outputId": "ef3f82f2-dc3d-4998-d602-58c9fe002da6"
   },
   "outputs": [
    {
     "data": {
      "text/plain": [
       "1999"
      ]
     },
     "execution_count": 53,
     "metadata": {},
     "output_type": "execute_result"
    }
   ],
   "source": [
    "episode"
   ]
  },
  {
   "cell_type": "code",
   "execution_count": 54,
   "metadata": {
    "id": "nYzOTCMKb5t1"
   },
   "outputs": [],
   "source": [
    "episodes = []\n",
    "for i in range(0,2000):\n",
    "  episodes.append(i)"
   ]
  },
  {
   "cell_type": "code",
   "execution_count": 55,
   "metadata": {
    "colab": {
     "base_uri": "https://localhost:8080/",
     "height": 497
    },
    "id": "Qg0a5-Z5ceY2",
    "outputId": "11b108ba-94d5-4ee9-b622-8d7eb1bc300d"
   },
   "outputs": [
    {
     "data": {
      "image/png": "[encoded data removed]",
      "text/plain": [
       "<Figure size 864x576 with 1 Axes>"
      ]
     },
     "metadata": {
      "needs_background": "light"
     },
     "output_type": "display_data"
    }
   ],
   "source": [
    "import matplotlib.pyplot as plt\n",
    "plt.figure(figsize=(12,8))\n",
    "plt.plot(episodes,all_steps)\n",
    "plt.xlabel(\"Episodes\")\n",
    "plt.ylabel(\"Steps per Episode\")\n",
    "plt.show()"
   ]
  },
  {
   "cell_type": "code",
   "execution_count": 56,
   "metadata": {
    "colab": {
     "base_uri": "https://localhost:8080/",
     "height": 497
    },
    "id": "cwmuMHs5cwSa",
    "outputId": "161b67d1-fa9b-40ec-fc02-542bee6d0971"
   },
   "outputs": [
    {
     "data": {
      "image/png": "[encoded data removed]",
      "text/plain": [
       "<Figure size 864x576 with 1 Axes>"
      ]
     },
     "metadata": {
      "needs_background": "light"
     },
     "output_type": "display_data"
    }
   ],
   "source": [
    "plt.figure(figsize=(12,8))\n",
    "plt.plot(episodes,all_costs)\n",
    "plt.xlabel(\"Episodes\")\n",
    "plt.ylabel(\"Rewards per Episode\")\n",
    "plt.show()"
   ]
  },
  {
   "cell_type": "code",
   "execution_count": 57,
   "metadata": {
    "colab": {
     "base_uri": "https://localhost:8080/"
    },
    "id": "7e5a9283",
    "outputId": "e88c3605-8dc6-43aa-f724-e77643d0993c"
   },
   "outputs": [
    {
     "data": {
      "text/plain": [
       "array([[[ -3.50897372,  32.61625379,  -3.46021488,  -3.50897372],\n",
       "        [ -2.96552305,  -2.95429928,  37.3513931 ,  -2.96360992],\n",
       "        [ -2.60299627,  -2.61077647,  -2.4039353 ,  -2.60935468],\n",
       "        [ -2.45280713, -10.        ,  -2.49146651,  -2.4687346 ],\n",
       "        [  0.        ,   0.        ,   0.        ,   0.        ],\n",
       "        [  0.        ,   0.        ,   0.        ,   0.        ]],\n",
       "\n",
       "       [[ -3.01563104,  -2.82947045,  -3.00032984,  -3.03586782],\n",
       "        [ -2.66524868,  42.612659  ,  -2.60479811,  -2.63731909],\n",
       "        [ -2.28046742,  -2.31633258,  48.45851   ,  -2.30453708],\n",
       "        [ -2.32208181,  -2.34456275,  -2.35053953,  -2.34051918],\n",
       "        [-10.        , -10.        , -10.        ,  -2.35651937],\n",
       "        [  0.        ,   0.        ,   0.        ,   0.        ]],\n",
       "\n",
       "       [[ -2.71674025,  -2.59782895, -10.        ,  -2.6769663 ],\n",
       "        [ -2.3957726 ,  -0.45186506, -10.        ,  -2.34858832],\n",
       "        [ -1.93971473,  -1.94479687,  54.9539    ,  -1.92651257],\n",
       "        [ -2.17480616, -10.        , -10.        ,  -1.6449492 ],\n",
       "        [  0.        ,   0.        ,   0.        ,   0.        ],\n",
       "        [  0.        ,   0.        ,   0.        ,   0.        ]],\n",
       "\n",
       "       [[  0.        ,   0.        ,   0.        ,   0.        ],\n",
       "        [  0.        ,   0.        ,   0.        ,   0.        ],\n",
       "        [ -1.36697152, -10.        ,  62.171     , -10.        ],\n",
       "        [  0.        ,   0.        ,   0.        ,   0.        ],\n",
       "        [-10.        ,   0.        ,   0.        ,   0.        ],\n",
       "        [-10.        ,   0.        ,   0.        ,   0.        ]],\n",
       "\n",
       "       [[-10.        ,  -0.33574319, -10.        ,  -0.29701   ],\n",
       "        [-10.        ,  -0.47393139,  -0.385219  ,  -0.42742   ],\n",
       "        [ -0.62641583,  -0.62149519,  70.19      ,  -0.65531269],\n",
       "        [-10.        ,  -0.271     ,   0.70123319,  -0.237151  ],\n",
       "        [ -0.1       ,  -0.1       ,  -0.1       ,  -0.11791   ],\n",
       "        [ -0.1       ,   0.        ,   0.        ,   0.        ]],\n",
       "\n",
       "       [[  0.        ,   0.        ,   0.        ,   0.        ],\n",
       "        [ -0.30043423,  -0.29074789,  -0.29701   , -10.        ],\n",
       "        [ -0.3255139 ,  79.1       ,  -0.29701   ,  -0.28      ],\n",
       "        [ -0.200539  ,  89.        ,  -0.1       ,  -0.109     ],\n",
       "        [ -0.1       , 100.        ,   0.        ,   0.        ],\n",
       "        [  0.        ,   0.        ,   0.        ,   0.        ]]])"
      ]
     },
     "execution_count": 57,
     "metadata": {},
     "output_type": "execute_result"
    }
   ],
   "source": [
    "q_values"
   ]
  },
  {
   "cell_type": "code",
   "execution_count": 58,
   "metadata": {
    "colab": {
     "base_uri": "https://localhost:8080/"
    },
    "id": "48ac263d",
    "outputId": "34a147d3-b181-44fc-a9ac-2dc328159052"
   },
   "outputs": [
    {
     "name": "stdout",
     "output_type": "stream",
     "text": [
      "[[0, 0], [0, 1], [1, 1], [1, 2], [2, 2], [3, 2], [4, 2], [5, 2], [5, 3], [5, 4], [5, 5]]\n"
     ]
    }
   ],
   "source": [
    "print(get_shortest_path(start[0], start[1]))\n"
   ]
  },
  {
   "cell_type": "code",
   "execution_count": 59,
   "metadata": {
    "id": "OCU1C47feX9W"
   },
   "outputs": [],
   "source": [
    "#displaying qtable as dataframe\n",
    "\n",
    "q = np.zeros((horizontal*vertical,6))\n",
    "q_table = pd.DataFrame(q)\n",
    "q_table.columns = ['state_row','state_col','up','down','left','right']\n",
    "q_table['state_col'] = q_table['state_col'].astype(int)\n",
    "q_table['state_row'] = q_table['state_row'].astype(int)\n",
    "l=0\n",
    "for i in range(vertical*horizontal):\n",
    "    for j in range(vertical):\n",
    "        q_table['state_col'][l+j]= j\n",
    "    for k in range(horizontal):\n",
    "        q_table['state_row'][l+k]=i\n",
    "    l+=vertical"
   ]
  },
  {
   "cell_type": "code",
   "execution_count": 60,
   "metadata": {
    "id": "kYoQDIfLeYGS"
   },
   "outputs": [],
   "source": [
    "for i in range(len(q_values[0])):\n",
    "  for j in range(len(q_values[1])):\n",
    "    index = q_table[(q_table['state_row']==i) & (q_table['state_col']==j)].index\n",
    "    index = int(index[0])\n",
    "    for k in range(4):\n",
    "       q_table.iloc[index,k+2] = q_values[i][j][k]"
   ]
  },
  {
   "cell_type": "code",
   "execution_count": 61,
   "metadata": {
    "colab": {
     "base_uri": "https://localhost:8080/",
     "height": 1000
    },
    "id": "Jwofyl3SeYKD",
    "outputId": "694402f2-a4b3-4517-8d75-b58ee854ce11"
   },
   "outputs": [
    {
     "data": {
      "text/html": [
       "\n",
       "  <div id=\"df-76aa44f8-cb2d-46f5-a111-2e07420c2370\">\n",
       "    <div class=\"colab-df-container\">\n",
       "      <div>\n",
       "<style scoped>\n",
       "    .dataframe tbody tr th:only-of-type {\n",
       "        vertical-align: middle;\n",
       "    }\n",
       "\n",
       "    .dataframe tbody tr th {\n",
       "        vertical-align: top;\n",
       "    }\n",
       "\n",
       "    .dataframe thead th {\n",
       "        text-align: right;\n",
       "    }\n",
       "</style>\n",
       "<table border=\"1\" class=\"dataframe\">\n",
       "  <thead>\n",
       "    <tr style=\"text-align: right;\">\n",
       "      <th></th>\n",
       "      <th>state_row</th>\n",
       "      <th>state_col</th>\n",
       "      <th>up</th>\n",
       "      <th>down</th>\n",
       "      <th>left</th>\n",
       "      <th>right</th>\n",
       "    </tr>\n",
       "  </thead>\n",
       "  <tbody>\n",
       "    <tr>\n",
       "      <th>0</th>\n",
       "      <td>0</td>\n",
       "      <td>0</td>\n",
       "      <td>-3.508974</td>\n",
       "      <td>32.616254</td>\n",
       "      <td>-3.460215</td>\n",
       "      <td>-3.508974</td>\n",
       "    </tr>\n",
       "    <tr>\n",
       "      <th>1</th>\n",
       "      <td>0</td>\n",
       "      <td>1</td>\n",
       "      <td>-2.965523</td>\n",
       "      <td>-2.954299</td>\n",
       "      <td>37.351393</td>\n",
       "      <td>-2.963610</td>\n",
       "    </tr>\n",
       "    <tr>\n",
       "      <th>2</th>\n",
       "      <td>0</td>\n",
       "      <td>2</td>\n",
       "      <td>-2.602996</td>\n",
       "      <td>-2.610776</td>\n",
       "      <td>-2.403935</td>\n",
       "      <td>-2.609355</td>\n",
       "    </tr>\n",
       "    <tr>\n",
       "      <th>3</th>\n",
       "      <td>0</td>\n",
       "      <td>3</td>\n",
       "      <td>-2.452807</td>\n",
       "      <td>-10.000000</td>\n",
       "      <td>-2.491467</td>\n",
       "      <td>-2.468735</td>\n",
       "    </tr>\n",
       "    <tr>\n",
       "      <th>4</th>\n",
       "      <td>0</td>\n",
       "      <td>4</td>\n",
       "      <td>0.000000</td>\n",
       "      <td>0.000000</td>\n",
       "      <td>0.000000</td>\n",
       "      <td>0.000000</td>\n",
       "    </tr>\n",
       "    <tr>\n",
       "      <th>5</th>\n",
       "      <td>0</td>\n",
       "      <td>5</td>\n",
       "      <td>0.000000</td>\n",
       "      <td>0.000000</td>\n",
       "      <td>0.000000</td>\n",
       "      <td>0.000000</td>\n",
       "    </tr>\n",
       "    <tr>\n",
       "      <th>6</th>\n",
       "      <td>1</td>\n",
       "      <td>0</td>\n",
       "      <td>-3.015631</td>\n",
       "      <td>-2.829470</td>\n",
       "      <td>-3.000330</td>\n",
       "      <td>-3.035868</td>\n",
       "    </tr>\n",
       "    <tr>\n",
       "      <th>7</th>\n",
       "      <td>1</td>\n",
       "      <td>1</td>\n",
       "      <td>-2.665249</td>\n",
       "      <td>42.612659</td>\n",
       "      <td>-2.604798</td>\n",
       "      <td>-2.637319</td>\n",
       "    </tr>\n",
       "    <tr>\n",
       "      <th>8</th>\n",
       "      <td>1</td>\n",
       "      <td>2</td>\n",
       "      <td>-2.280467</td>\n",
       "      <td>-2.316333</td>\n",
       "      <td>48.458510</td>\n",
       "      <td>-2.304537</td>\n",
       "    </tr>\n",
       "    <tr>\n",
       "      <th>9</th>\n",
       "      <td>1</td>\n",
       "      <td>3</td>\n",
       "      <td>-2.322082</td>\n",
       "      <td>-2.344563</td>\n",
       "      <td>-2.350540</td>\n",
       "      <td>-2.340519</td>\n",
       "    </tr>\n",
       "    <tr>\n",
       "      <th>10</th>\n",
       "      <td>1</td>\n",
       "      <td>4</td>\n",
       "      <td>-10.000000</td>\n",
       "      <td>-10.000000</td>\n",
       "      <td>-10.000000</td>\n",
       "      <td>-2.356519</td>\n",
       "    </tr>\n",
       "    <tr>\n",
       "      <th>11</th>\n",
       "      <td>1</td>\n",
       "      <td>5</td>\n",
       "      <td>0.000000</td>\n",
       "      <td>0.000000</td>\n",
       "      <td>0.000000</td>\n",
       "      <td>0.000000</td>\n",
       "    </tr>\n",
       "    <tr>\n",
       "      <th>12</th>\n",
       "      <td>2</td>\n",
       "      <td>0</td>\n",
       "      <td>-2.716740</td>\n",
       "      <td>-2.597829</td>\n",
       "      <td>-10.000000</td>\n",
       "      <td>-2.676966</td>\n",
       "    </tr>\n",
       "    <tr>\n",
       "      <th>13</th>\n",
       "      <td>2</td>\n",
       "      <td>1</td>\n",
       "      <td>-2.395773</td>\n",
       "      <td>-0.451865</td>\n",
       "      <td>-10.000000</td>\n",
       "      <td>-2.348588</td>\n",
       "    </tr>\n",
       "    <tr>\n",
       "      <th>14</th>\n",
       "      <td>2</td>\n",
       "      <td>2</td>\n",
       "      <td>-1.939715</td>\n",
       "      <td>-1.944797</td>\n",
       "      <td>54.953900</td>\n",
       "      <td>-1.926513</td>\n",
       "    </tr>\n",
       "    <tr>\n",
       "      <th>15</th>\n",
       "      <td>2</td>\n",
       "      <td>3</td>\n",
       "      <td>-2.174806</td>\n",
       "      <td>-10.000000</td>\n",
       "      <td>-10.000000</td>\n",
       "      <td>-1.644949</td>\n",
       "    </tr>\n",
       "    <tr>\n",
       "      <th>16</th>\n",
       "      <td>2</td>\n",
       "      <td>4</td>\n",
       "      <td>0.000000</td>\n",
       "      <td>0.000000</td>\n",
       "      <td>0.000000</td>\n",
       "      <td>0.000000</td>\n",
       "    </tr>\n",
       "    <tr>\n",
       "      <th>17</th>\n",
       "      <td>2</td>\n",
       "      <td>5</td>\n",
       "      <td>0.000000</td>\n",
       "      <td>0.000000</td>\n",
       "      <td>0.000000</td>\n",
       "      <td>0.000000</td>\n",
       "    </tr>\n",
       "    <tr>\n",
       "      <th>18</th>\n",
       "      <td>3</td>\n",
       "      <td>0</td>\n",
       "      <td>0.000000</td>\n",
       "      <td>0.000000</td>\n",
       "      <td>0.000000</td>\n",
       "      <td>0.000000</td>\n",
       "    </tr>\n",
       "    <tr>\n",
       "      <th>19</th>\n",
       "      <td>3</td>\n",
       "      <td>1</td>\n",
       "      <td>0.000000</td>\n",
       "      <td>0.000000</td>\n",
       "      <td>0.000000</td>\n",
       "      <td>0.000000</td>\n",
       "    </tr>\n",
       "    <tr>\n",
       "      <th>20</th>\n",
       "      <td>3</td>\n",
       "      <td>2</td>\n",
       "      <td>-1.366972</td>\n",
       "      <td>-10.000000</td>\n",
       "      <td>62.171000</td>\n",
       "      <td>-10.000000</td>\n",
       "    </tr>\n",
       "    <tr>\n",
       "      <th>21</th>\n",
       "      <td>3</td>\n",
       "      <td>3</td>\n",
       "      <td>0.000000</td>\n",
       "      <td>0.000000</td>\n",
       "      <td>0.000000</td>\n",
       "      <td>0.000000</td>\n",
       "    </tr>\n",
       "    <tr>\n",
       "      <th>22</th>\n",
       "      <td>3</td>\n",
       "      <td>4</td>\n",
       "      <td>-10.000000</td>\n",
       "      <td>0.000000</td>\n",
       "      <td>0.000000</td>\n",
       "      <td>0.000000</td>\n",
       "    </tr>\n",
       "    <tr>\n",
       "      <th>23</th>\n",
       "      <td>3</td>\n",
       "      <td>5</td>\n",
       "      <td>-10.000000</td>\n",
       "      <td>0.000000</td>\n",
       "      <td>0.000000</td>\n",
       "      <td>0.000000</td>\n",
       "    </tr>\n",
       "    <tr>\n",
       "      <th>24</th>\n",
       "      <td>4</td>\n",
       "      <td>0</td>\n",
       "      <td>-10.000000</td>\n",
       "      <td>-0.335743</td>\n",
       "      <td>-10.000000</td>\n",
       "      <td>-0.297010</td>\n",
       "    </tr>\n",
       "    <tr>\n",
       "      <th>25</th>\n",
       "      <td>4</td>\n",
       "      <td>1</td>\n",
       "      <td>-10.000000</td>\n",
       "      <td>-0.473931</td>\n",
       "      <td>-0.385219</td>\n",
       "      <td>-0.427420</td>\n",
       "    </tr>\n",
       "    <tr>\n",
       "      <th>26</th>\n",
       "      <td>4</td>\n",
       "      <td>2</td>\n",
       "      <td>-0.626416</td>\n",
       "      <td>-0.621495</td>\n",
       "      <td>70.190000</td>\n",
       "      <td>-0.655313</td>\n",
       "    </tr>\n",
       "    <tr>\n",
       "      <th>27</th>\n",
       "      <td>4</td>\n",
       "      <td>3</td>\n",
       "      <td>-10.000000</td>\n",
       "      <td>-0.271000</td>\n",
       "      <td>0.701233</td>\n",
       "      <td>-0.237151</td>\n",
       "    </tr>\n",
       "    <tr>\n",
       "      <th>28</th>\n",
       "      <td>4</td>\n",
       "      <td>4</td>\n",
       "      <td>-0.100000</td>\n",
       "      <td>-0.100000</td>\n",
       "      <td>-0.100000</td>\n",
       "      <td>-0.117910</td>\n",
       "    </tr>\n",
       "    <tr>\n",
       "      <th>29</th>\n",
       "      <td>4</td>\n",
       "      <td>5</td>\n",
       "      <td>-0.100000</td>\n",
       "      <td>0.000000</td>\n",
       "      <td>0.000000</td>\n",
       "      <td>0.000000</td>\n",
       "    </tr>\n",
       "    <tr>\n",
       "      <th>30</th>\n",
       "      <td>5</td>\n",
       "      <td>0</td>\n",
       "      <td>0.000000</td>\n",
       "      <td>0.000000</td>\n",
       "      <td>0.000000</td>\n",
       "      <td>0.000000</td>\n",
       "    </tr>\n",
       "    <tr>\n",
       "      <th>31</th>\n",
       "      <td>5</td>\n",
       "      <td>1</td>\n",
       "      <td>-0.300434</td>\n",
       "      <td>-0.290748</td>\n",
       "      <td>-0.297010</td>\n",
       "      <td>-10.000000</td>\n",
       "    </tr>\n",
       "    <tr>\n",
       "      <th>32</th>\n",
       "      <td>5</td>\n",
       "      <td>2</td>\n",
       "      <td>-0.325514</td>\n",
       "      <td>79.100000</td>\n",
       "      <td>-0.297010</td>\n",
       "      <td>-0.280000</td>\n",
       "    </tr>\n",
       "    <tr>\n",
       "      <th>33</th>\n",
       "      <td>5</td>\n",
       "      <td>3</td>\n",
       "      <td>-0.200539</td>\n",
       "      <td>89.000000</td>\n",
       "      <td>-0.100000</td>\n",
       "      <td>-0.109000</td>\n",
       "    </tr>\n",
       "    <tr>\n",
       "      <th>34</th>\n",
       "      <td>5</td>\n",
       "      <td>4</td>\n",
       "      <td>-0.100000</td>\n",
       "      <td>100.000000</td>\n",
       "      <td>0.000000</td>\n",
       "      <td>0.000000</td>\n",
       "    </tr>\n",
       "    <tr>\n",
       "      <th>35</th>\n",
       "      <td>5</td>\n",
       "      <td>5</td>\n",
       "      <td>0.000000</td>\n",
       "      <td>0.000000</td>\n",
       "      <td>0.000000</td>\n",
       "      <td>0.000000</td>\n",
       "    </tr>\n",
       "  </tbody>\n",
       "</table>\n",
       "</div>\n",
       "      <button class=\"colab-df-convert\" onclick=\"convertToInteractive('df-76aa44f8-cb2d-46f5-a111-2e07420c2370')\"\n",
       "              title=\"Convert this dataframe to an interactive table.\"\n",
       "              style=\"display:none;\">\n",
       "        \n",
       "  <svg xmlns=\"http://www.w3.org/2000/svg\" height=\"24px\"viewBox=\"0 0 24 24\"\n",
       "       width=\"24px\">\n",
       "    <path d=\"M0 0h24v24H0V0z\" fill=\"none\"/>\n",
       "    <path d=\"M18.56 5.44l.94 2.06.94-2.06 2.06-.94-2.06-.94-.94-2.06-.94 2.06-2.06.94zm-11 1L8.5 8.5l.94-2.06 2.06-.94-2.06-.94L8.5 2.5l-.94 2.06-2.06.94zm10 10l.94 2.06.94-2.06 2.06-.94-2.06-.94-.94-2.06-.94 2.06-2.06.94z\"/><path d=\"M17.41 7.96l-1.37-1.37c-.4-.4-.92-.59-1.43-.59-.52 0-1.04.2-1.43.59L10.3 9.45l-7.72 7.72c-.78.78-.78 2.05 0 2.83L4 21.41c.39.39.9.59 1.41.59.51 0 1.02-.2 1.41-.59l7.78-7.78 2.81-2.81c.8-.78.8-2.07 0-2.86zM5.41 20L4 18.59l7.72-7.72 1.47 1.35L5.41 20z\"/>\n",
       "  </svg>\n",
       "      </button>\n",
       "      \n",
       "  <style>\n",
       "    .colab-df-container {\n",
       "      display:flex;\n",
       "      flex-wrap:wrap;\n",
       "      gap: 12px;\n",
       "    }\n",
       "\n",
       "    .colab-df-convert {\n",
       "      background-color: #E8F0FE;\n",
       "      border: none;\n",
       "      border-radius: 50%;\n",
       "      cursor: pointer;\n",
       "      display: none;\n",
       "      fill: #1967D2;\n",
       "      height: 32px;\n",
       "      padding: 0 0 0 0;\n",
       "      width: 32px;\n",
       "    }\n",
       "\n",
       "    .colab-df-convert:hover {\n",
       "      background-color: #E2EBFA;\n",
       "      box-shadow: 0px 1px 2px rgba(60, 64, 67, 0.3), 0px 1px 3px 1px rgba(60, 64, 67, 0.15);\n",
       "      fill: #174EA6;\n",
       "    }\n",
       "\n",
       "    [theme=dark] .colab-df-convert {\n",
       "      background-color: #3B4455;\n",
       "      fill: #D2E3FC;\n",
       "    }\n",
       "\n",
       "    [theme=dark] .colab-df-convert:hover {\n",
       "      background-color: #434B5C;\n",
       "      box-shadow: 0px 1px 3px 1px rgba(0, 0, 0, 0.15);\n",
       "      filter: drop-shadow(0px 1px 2px rgba(0, 0, 0, 0.3));\n",
       "      fill: #FFFFFF;\n",
       "    }\n",
       "  </style>\n",
       "\n",
       "      <script>\n",
       "        const buttonEl =\n",
       "          document.querySelector('#df-76aa44f8-cb2d-46f5-a111-2e07420c2370 button.colab-df-convert');\n",
       "        buttonEl.style.display =\n",
       "          google.colab.kernel.accessAllowed ? 'block' : 'none';\n",
       "\n",
       "        async function convertToInteractive(key) {\n",
       "          const element = document.querySelector('#df-76aa44f8-cb2d-46f5-a111-2e07420c2370');\n",
       "          const dataTable =\n",
       "            await google.colab.kernel.invokeFunction('convertToInteractive',\n",
       "                                                     [key], {});\n",
       "          if (!dataTable) return;\n",
       "\n",
       "          const docLinkHtml = 'Like what you see? Visit the ' +\n",
       "            '<a target=\"_blank\" href=https://colab.research.google.com/notebooks/data_table.ipynb>data table notebook</a>'\n",
       "            + ' to learn more about interactive tables.';\n",
       "          element.innerHTML = '';\n",
       "          dataTable['output_type'] = 'display_data';\n",
       "          await google.colab.output.renderOutput(dataTable, element);\n",
       "          const docLink = document.createElement('div');\n",
       "          docLink.innerHTML = docLinkHtml;\n",
       "          element.appendChild(docLink);\n",
       "        }\n",
       "      </script>\n",
       "    </div>\n",
       "  </div>\n",
       "  "
      ],
      "text/plain": [
       "    state_row  state_col         up        down       left      right\n",
       "0           0          0  -3.508974   32.616254  -3.460215  -3.508974\n",
       "1           0          1  -2.965523   -2.954299  37.351393  -2.963610\n",
       "2           0          2  -2.602996   -2.610776  -2.403935  -2.609355\n",
       "3           0          3  -2.452807  -10.000000  -2.491467  -2.468735\n",
       "4           0          4   0.000000    0.000000   0.000000   0.000000\n",
       "5           0          5   0.000000    0.000000   0.000000   0.000000\n",
       "6           1          0  -3.015631   -2.829470  -3.000330  -3.035868\n",
       "7           1          1  -2.665249   42.612659  -2.604798  -2.637319\n",
       "8           1          2  -2.280467   -2.316333  48.458510  -2.304537\n",
       "9           1          3  -2.322082   -2.344563  -2.350540  -2.340519\n",
       "10          1          4 -10.000000  -10.000000 -10.000000  -2.356519\n",
       "11          1          5   0.000000    0.000000   0.000000   0.000000\n",
       "12          2          0  -2.716740   -2.597829 -10.000000  -2.676966\n",
       "13          2          1  -2.395773   -0.451865 -10.000000  -2.348588\n",
       "14          2          2  -1.939715   -1.944797  54.953900  -1.926513\n",
       "15          2          3  -2.174806  -10.000000 -10.000000  -1.644949\n",
       "16          2          4   0.000000    0.000000   0.000000   0.000000\n",
       "17          2          5   0.000000    0.000000   0.000000   0.000000\n",
       "18          3          0   0.000000    0.000000   0.000000   0.000000\n",
       "19          3          1   0.000000    0.000000   0.000000   0.000000\n",
       "20          3          2  -1.366972  -10.000000  62.171000 -10.000000\n",
       "21          3          3   0.000000    0.000000   0.000000   0.000000\n",
       "22          3          4 -10.000000    0.000000   0.000000   0.000000\n",
       "23          3          5 -10.000000    0.000000   0.000000   0.000000\n",
       "24          4          0 -10.000000   -0.335743 -10.000000  -0.297010\n",
       "25          4          1 -10.000000   -0.473931  -0.385219  -0.427420\n",
       "26          4          2  -0.626416   -0.621495  70.190000  -0.655313\n",
       "27          4          3 -10.000000   -0.271000   0.701233  -0.237151\n",
       "28          4          4  -0.100000   -0.100000  -0.100000  -0.117910\n",
       "29          4          5  -0.100000    0.000000   0.000000   0.000000\n",
       "30          5          0   0.000000    0.000000   0.000000   0.000000\n",
       "31          5          1  -0.300434   -0.290748  -0.297010 -10.000000\n",
       "32          5          2  -0.325514   79.100000  -0.297010  -0.280000\n",
       "33          5          3  -0.200539   89.000000  -0.100000  -0.109000\n",
       "34          5          4  -0.100000  100.000000   0.000000   0.000000\n",
       "35          5          5   0.000000    0.000000   0.000000   0.000000"
      ]
     },
     "execution_count": 61,
     "metadata": {},
     "output_type": "execute_result"
    }
   ],
   "source": [
    "q_table"
   ]
  },
  {
   "cell_type": "code",
   "execution_count": 62,
   "metadata": {
    "id": "ZkqcJFMceYNV"
   },
   "outputs": [],
   "source": [
    "list1  = get_shortest_path(start[0], start[1])"
   ]
  },
  {
   "cell_type": "code",
   "execution_count": 63,
   "metadata": {
    "id": "zMTeQ71ge6oy"
   },
   "outputs": [],
   "source": [
    "action_direction = dict()\n",
    "for i in range(len(list1)-1):\n",
    "  if(list1[i][0] - list1[i+1][0] == -1):\n",
    "    action_direction[(list1[i][0],list1[i][1])] = \"LEFT\"\n",
    "  elif(list1[i][0] - list1[i+1][0] == 1):\n",
    "    action_direction[(list1[i][0],list1[i][1])] = \"RIGHT\"\n",
    "  elif(list1[i][1] - list1[i+1][1] == -1):\n",
    "    action_direction[(list1[i][0],list1[i][1])] = \"UP\"\n",
    "  elif(list1[i][1] - list1[i+1][1] == 1):\n",
    "    action_direction[(list1[i][0],list1[i][1])] = \"DOWN\""
   ]
  },
  {
   "cell_type": "code",
   "execution_count": 64,
   "metadata": {
    "colab": {
     "base_uri": "https://localhost:8080/"
    },
    "id": "pXIF0qBkg0pY",
    "outputId": "6dc4badf-4307-48e1-d47a-d7646d3433c9"
   },
   "outputs": [
    {
     "data": {
      "text/plain": [
       "{(0, 0): 'UP',\n",
       " (0, 1): 'LEFT',\n",
       " (1, 1): 'UP',\n",
       " (1, 2): 'LEFT',\n",
       " (2, 2): 'LEFT',\n",
       " (3, 2): 'LEFT',\n",
       " (4, 2): 'LEFT',\n",
       " (5, 2): 'UP',\n",
       " (5, 3): 'UP',\n",
       " (5, 4): 'UP'}"
      ]
     },
     "execution_count": 64,
     "metadata": {},
     "output_type": "execute_result"
    }
   ],
   "source": [
    "action_direction"
   ]
  },
  {
   "cell_type": "code",
   "execution_count": 65,
   "metadata": {
    "id": "WzRFkowXhvTh"
   },
   "outputs": [],
   "source": [
    "direction_map = {\n",
    "    'UP'   : ( 0, 1),\n",
    "    'DOWN' : ( 0,-1),\n",
    "    'RIGHT': ( 1, 0),\n",
    "    'LEFT' : (-1, 0)\n",
    "}"
   ]
  },
  {
   "cell_type": "code",
   "execution_count": 66,
   "metadata": {
    "colab": {
     "base_uri": "https://localhost:8080/",
     "height": 867
    },
    "id": "UwFT_jN9hAJB",
    "outputId": "315953c3-a92d-4127-e2eb-808364c8ae2c"
   },
   "outputs": [
    {
     "data": {
      "image/png": "[encoded data removed]",
      "text/plain": [
       "<Figure size 1080x1080 with 1 Axes>"
      ]
     },
     "metadata": {
      "needs_background": "light"
     },
     "output_type": "display_data"
    }
   ],
   "source": [
    "def arrow_position(location, arrow_direction):\n",
    "    if arrow_direction == 'UP':\n",
    "        correction = (.5, .3)\n",
    "    elif arrow_direction == 'DOWN':\n",
    "        correction = (.6, .3)\n",
    "    elif arrow_direction == 'RIGHT':\n",
    "        correction = (.4, .5)\n",
    "    elif arrow_direction == 'LEFT':\n",
    "        correction = (.6, .5)\n",
    "    return (location[0]+correction[0],\n",
    "            location[1]+correction[1])\n",
    "\n",
    "fig, ax = plt.subplots(figsize=(15,15))\n",
    "plt.xlim(0,horizontal)\n",
    "plt.ylim(vertical,0)\n",
    "plt.pcolormesh(rewards,edgecolor='b',cmap=plt.cm.hot)\n",
    "# plt.grid(True)\n",
    "plt.xticks(np.arange(0, horizontal, 1.0))\n",
    "plt.yticks(np.arange(0, vertical, 1.0))\n",
    "\n",
    "locations = action_direction.keys()\n",
    "for location in locations:\n",
    "    arrow_direction = action_direction[location]\n",
    "    x_pos, y_pos = arrow_position(location, arrow_direction)\n",
    "    x_direct, y_direct = direction_map[arrow_direction]\n",
    "    ax.quiver(\n",
    "        y_pos,x_pos,\n",
    "        y_direct,x_direct,\n",
    "        scale=30)\n",
    "\n",
    "plt.show()"
   ]
  }
 ],
 "metadata": {
  "colab": {
   "collapsed_sections": [],
   "name": "q_learning_with_simulation_ep=0.9.ipynb",
   "provenance": []
  },
  "kernelspec": {
   "display_name": "Python 3",
   "language": "python",
   "name": "python3"
  },
  "language_info": {
   "codemirror_mode": {
    "name": "ipython",
    "version": 3
   },
   "file_extension": ".py",
   "mimetype": "text/x-python",
   "name": "python",
   "nbconvert_exporter": "python",
   "pygments_lexer": "ipython3",
   "version": "3.7.6"
  }
 },
 "nbformat": 4,
 "nbformat_minor": 5
}
