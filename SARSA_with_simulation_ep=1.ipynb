{
 "cells": [
  {
   "cell_type": "code",
   "execution_count": 62,
   "metadata": {
    "id": "F6qipu1oDNin"
   },
   "outputs": [],
   "source": [
    "import numpy as np\n",
    "import pandas as pd\n",
    "import matplotlib.pyplot as plt\n",
    "import random\n",
    "import warnings\n",
    "warnings.filterwarnings(\"ignore\")"
   ]
  },
  {
   "cell_type": "code",
   "execution_count": 63,
   "metadata": {
    "id": "9VxMzGS_DSzR"
   },
   "outputs": [],
   "source": [
    "#create a user defined grid of size m*n\n",
    "def create_board(vertical,horizontal):\n",
    "    board = [[0 for column in range(vertical)] for  cell in range(horizontal)]\n",
    "    board = np.array(board)\n",
    "    return board"
   ]
  },
  {
   "cell_type": "code",
   "execution_count": 64,
   "metadata": {
    "colab": {
     "base_uri": "https://localhost:8080/"
    },
    "id": "6PkMply8DUfj",
    "outputId": "a02708c3-664b-4a0f-d202-331738aa2b87"
   },
   "outputs": [
    {
     "data": {
      "text/plain": [
       "array([[0, 0, 0, 0, 0, 0, 0, 0, 0, 0, 0, 0, 0, 0, 0, 0, 0, 0, 0, 0],\n",
       "       [0, 0, 0, 0, 0, 0, 0, 0, 0, 0, 0, 0, 0, 0, 0, 0, 0, 0, 0, 0],\n",
       "       [0, 0, 0, 0, 0, 0, 0, 0, 0, 0, 0, 0, 0, 0, 0, 0, 0, 0, 0, 0],\n",
       "       [0, 0, 0, 0, 0, 0, 0, 0, 0, 0, 0, 0, 0, 0, 0, 0, 0, 0, 0, 0],\n",
       "       [0, 0, 0, 0, 0, 0, 0, 0, 0, 0, 0, 0, 0, 0, 0, 0, 0, 0, 0, 0],\n",
       "       [0, 0, 0, 0, 0, 0, 0, 0, 0, 0, 0, 0, 0, 0, 0, 0, 0, 0, 0, 0],\n",
       "       [0, 0, 0, 0, 0, 0, 0, 0, 0, 0, 0, 0, 0, 0, 0, 0, 0, 0, 0, 0],\n",
       "       [0, 0, 0, 0, 0, 0, 0, 0, 0, 0, 0, 0, 0, 0, 0, 0, 0, 0, 0, 0],\n",
       "       [0, 0, 0, 0, 0, 0, 0, 0, 0, 0, 0, 0, 0, 0, 0, 0, 0, 0, 0, 0],\n",
       "       [0, 0, 0, 0, 0, 0, 0, 0, 0, 0, 0, 0, 0, 0, 0, 0, 0, 0, 0, 0],\n",
       "       [0, 0, 0, 0, 0, 0, 0, 0, 0, 0, 0, 0, 0, 0, 0, 0, 0, 0, 0, 0],\n",
       "       [0, 0, 0, 0, 0, 0, 0, 0, 0, 0, 0, 0, 0, 0, 0, 0, 0, 0, 0, 0],\n",
       "       [0, 0, 0, 0, 0, 0, 0, 0, 0, 0, 0, 0, 0, 0, 0, 0, 0, 0, 0, 0],\n",
       "       [0, 0, 0, 0, 0, 0, 0, 0, 0, 0, 0, 0, 0, 0, 0, 0, 0, 0, 0, 0],\n",
       "       [0, 0, 0, 0, 0, 0, 0, 0, 0, 0, 0, 0, 0, 0, 0, 0, 0, 0, 0, 0],\n",
       "       [0, 0, 0, 0, 0, 0, 0, 0, 0, 0, 0, 0, 0, 0, 0, 0, 0, 0, 0, 0],\n",
       "       [0, 0, 0, 0, 0, 0, 0, 0, 0, 0, 0, 0, 0, 0, 0, 0, 0, 0, 0, 0],\n",
       "       [0, 0, 0, 0, 0, 0, 0, 0, 0, 0, 0, 0, 0, 0, 0, 0, 0, 0, 0, 0],\n",
       "       [0, 0, 0, 0, 0, 0, 0, 0, 0, 0, 0, 0, 0, 0, 0, 0, 0, 0, 0, 0],\n",
       "       [0, 0, 0, 0, 0, 0, 0, 0, 0, 0, 0, 0, 0, 0, 0, 0, 0, 0, 0, 0]])"
      ]
     },
     "execution_count": 64,
     "metadata": {},
     "output_type": "execute_result"
    }
   ],
   "source": [
    "board = create_board(20,20)\n",
    "board"
   ]
  },
  {
   "cell_type": "code",
   "execution_count": 65,
   "metadata": {
    "id": "qGB0Y90rDXhB"
   },
   "outputs": [],
   "source": [
    "actions = ['up', 'right', 'down', 'left']"
   ]
  },
  {
   "cell_type": "code",
   "execution_count": 66,
   "metadata": {
    "id": "URlY-amvDZuR"
   },
   "outputs": [],
   "source": [
    "def intialize_obstacles(start,end):\n",
    "    obstacles = []\n",
    "    limit = int((board.shape[0]*board.shape[1])/4)\n",
    "    count = 0\n",
    "    while(count!=limit):\n",
    "        ran = np.random.randint((board.shape[0]*board.shape[1]))\n",
    "        if(ran!=start and ran!=end and ran not in obstacles):\n",
    "            obstacles.append(ran)\n",
    "            count+=1\n",
    "        else:\n",
    "            continue\n",
    "    return obstacles"
   ]
  },
  {
   "cell_type": "code",
   "execution_count": 67,
   "metadata": {
    "id": "u0kSsWuJDb7Z"
   },
   "outputs": [],
   "source": [
    "def position_obstacles(board,obstacles):\n",
    "    horizontal = board.shape[0]\n",
    "    vertical = board.shape[1]\n",
    "    board = board.flatten()\n",
    "    for i in obstacles:\n",
    "        board[i] = -1\n",
    "    board = np.reshape(board,(vertical,horizontal))\n",
    "    return board"
   ]
  },
  {
   "cell_type": "code",
   "execution_count": 68,
   "metadata": {
    "id": "epyE2vd7DeWh"
   },
   "outputs": [],
   "source": [
    "def multiplyList(l,col,row) :\n",
    "    res = col*(l[0])+l[1]\n",
    "    return res"
   ]
  },
  {
   "cell_type": "code",
   "execution_count": 69,
   "metadata": {
    "id": "IeGN2BaZDhWY"
   },
   "outputs": [],
   "source": [
    "start = [0,0]\n",
    "end = [19,19]\n",
    "\n",
    "vertical = 20\n",
    "horizontal = 20"
   ]
  },
  {
   "cell_type": "code",
   "execution_count": 70,
   "metadata": {
    "id": "V7VOmHK1Dj9p"
   },
   "outputs": [],
   "source": [
    "obstacles = intialize_obstacles(multiplyList(start,vertical,horizontal),multiplyList(end,vertical,horizontal))"
   ]
  },
  {
   "cell_type": "code",
   "execution_count": 71,
   "metadata": {
    "colab": {
     "base_uri": "https://localhost:8080/"
    },
    "id": "rO7mYpoqDooC",
    "outputId": "73f0b327-0be9-44a0-d6cc-1b49b1499484"
   },
   "outputs": [
    {
     "data": {
      "text/plain": [
       "array([[ 0, -1,  0,  0,  0,  0,  0,  0,  0,  0, -1, -1,  0, -1, -1,  0,\n",
       "         0,  0,  0,  0],\n",
       "       [ 0,  0,  0,  0, -1,  0,  0,  0,  0, -1, -1, -1,  0,  0, -1, -1,\n",
       "        -1,  0,  0, -1],\n",
       "       [ 0,  0, -1, -1,  0, -1, -1, -1,  0,  0,  0,  0,  0,  0, -1, -1,\n",
       "         0,  0, -1, -1],\n",
       "       [ 0,  0,  0, -1,  0,  0,  0, -1,  0, -1,  0,  0, -1,  0,  0,  0,\n",
       "         0,  0,  0,  0],\n",
       "       [ 0,  0, -1, -1, -1, -1,  0,  0, -1,  0,  0,  0,  0, -1,  0, -1,\n",
       "        -1,  0,  0,  0],\n",
       "       [-1,  0,  0,  0,  0,  0,  0,  0,  0,  0,  0,  0,  0,  0,  0,  0,\n",
       "         0,  0, -1, -1],\n",
       "       [ 0,  0,  0,  0,  0, -1,  0,  0,  0,  0,  0,  0,  0,  0,  0,  0,\n",
       "        -1, -1, -1,  0],\n",
       "       [ 0,  0,  0, -1,  0, -1,  0,  0, -1,  0,  0,  0, -1,  0,  0, -1,\n",
       "         0,  0, -1,  0],\n",
       "       [ 0,  0, -1,  0,  0,  0, -1,  0,  0,  0, -1,  0,  0,  0,  0, -1,\n",
       "         0,  0, -1,  0],\n",
       "       [ 0,  0,  0,  0,  0,  0,  0,  0,  0,  0, -1,  0,  0,  0,  0,  0,\n",
       "         0,  0,  0, -1],\n",
       "       [ 0,  0,  0,  0,  0,  0, -1,  0,  0,  0,  0,  0,  0,  0, -1,  0,\n",
       "         0,  0, -1,  0],\n",
       "       [ 0,  0,  0, -1,  0,  0,  0,  0, -1,  0,  0, -1, -1, -1,  0,  0,\n",
       "         0, -1, -1,  0],\n",
       "       [ 0,  0,  0,  0,  0, -1,  0,  0,  0,  0,  0, -1,  0,  0,  0,  0,\n",
       "         0, -1,  0,  0],\n",
       "       [ 0,  0,  0,  0,  0,  0,  0,  0,  0,  0, -1,  0,  0, -1, -1,  0,\n",
       "         0,  0,  0,  0],\n",
       "       [-1,  0, -1,  0,  0,  0, -1,  0, -1, -1,  0,  0,  0,  0,  0,  0,\n",
       "        -1,  0, -1,  0],\n",
       "       [ 0, -1,  0,  0,  0,  0,  0,  0,  0,  0,  0,  0,  0,  0,  0,  0,\n",
       "        -1,  0, -1, -1],\n",
       "       [ 0,  0,  0,  0,  0,  0,  0,  0,  0,  0,  0, -1, -1,  0, -1,  0,\n",
       "         0,  0, -1, -1],\n",
       "       [ 0,  0,  0,  0,  0,  0,  0,  0,  0,  0, -1,  0, -1, -1,  0,  0,\n",
       "         0,  0,  0,  0],\n",
       "       [ 0, -1,  0,  0, -1,  0,  0, -1,  0, -1,  0,  0,  0,  0, -1,  0,\n",
       "         0,  0, -1,  0],\n",
       "       [ 0,  0, -1,  0,  0,  0, -1,  0,  0,  0,  0,  0,  0, -1,  0, -1,\n",
       "         0, -1,  0,  0]])"
      ]
     },
     "execution_count": 71,
     "metadata": {},
     "output_type": "execute_result"
    }
   ],
   "source": [
    "board_with_obstacles = position_obstacles(board,obstacles)\n",
    "board_with_obstacles"
   ]
  },
  {
   "cell_type": "code",
   "execution_count": 72,
   "metadata": {
    "colab": {
     "base_uri": "https://localhost:8080/"
    },
    "id": "17nvGFCoDrAq",
    "outputId": "30bde354-17f0-44a1-c137-5f2b2ea7ee2d"
   },
   "outputs": [
    {
     "data": {
      "text/plain": [
       "(20, 20, 100.0)"
      ]
     },
     "execution_count": 72,
     "metadata": {},
     "output_type": "execute_result"
    }
   ],
   "source": [
    "rewards = np.full((horizontal,vertical),-100.)\n",
    "rewards[end[0],end[1]]= 100\n",
    "for i in range(len(board_with_obstacles)):\n",
    "    for j in range(len(board_with_obstacles[0])):\n",
    "        # print(i,j)\n",
    "        if(board_with_obstacles[i][j]==0 and rewards[i][j]!=100):\n",
    "            rewards[i][j]=-1\n",
    "\n",
    "len(board_with_obstacles),len(board_with_obstacles[0]),rewards[end[0],end[1]]"
   ]
  },
  {
   "cell_type": "code",
   "execution_count": 73,
   "metadata": {
    "colab": {
     "base_uri": "https://localhost:8080/"
    },
    "id": "8JVsvfJADtF5",
    "outputId": "1b53fa34-7c03-43ce-e450-ec0422c42808"
   },
   "outputs": [
    {
     "data": {
      "text/plain": [
       "array([[  -1., -100.,   -1.,   -1.,   -1.,   -1.,   -1.,   -1.,   -1.,\n",
       "          -1., -100., -100.,   -1., -100., -100.,   -1.,   -1.,   -1.,\n",
       "          -1.,   -1.],\n",
       "       [  -1.,   -1.,   -1.,   -1., -100.,   -1.,   -1.,   -1.,   -1.,\n",
       "        -100., -100., -100.,   -1.,   -1., -100., -100., -100.,   -1.,\n",
       "          -1., -100.],\n",
       "       [  -1.,   -1., -100., -100.,   -1., -100., -100., -100.,   -1.,\n",
       "          -1.,   -1.,   -1.,   -1.,   -1., -100., -100.,   -1.,   -1.,\n",
       "        -100., -100.],\n",
       "       [  -1.,   -1.,   -1., -100.,   -1.,   -1.,   -1., -100.,   -1.,\n",
       "        -100.,   -1.,   -1., -100.,   -1.,   -1.,   -1.,   -1.,   -1.,\n",
       "          -1.,   -1.],\n",
       "       [  -1.,   -1., -100., -100., -100., -100.,   -1.,   -1., -100.,\n",
       "          -1.,   -1.,   -1.,   -1., -100.,   -1., -100., -100.,   -1.,\n",
       "          -1.,   -1.],\n",
       "       [-100.,   -1.,   -1.,   -1.,   -1.,   -1.,   -1.,   -1.,   -1.,\n",
       "          -1.,   -1.,   -1.,   -1.,   -1.,   -1.,   -1.,   -1.,   -1.,\n",
       "        -100., -100.],\n",
       "       [  -1.,   -1.,   -1.,   -1.,   -1., -100.,   -1.,   -1.,   -1.,\n",
       "          -1.,   -1.,   -1.,   -1.,   -1.,   -1.,   -1., -100., -100.,\n",
       "        -100.,   -1.],\n",
       "       [  -1.,   -1.,   -1., -100.,   -1., -100.,   -1.,   -1., -100.,\n",
       "          -1.,   -1.,   -1., -100.,   -1.,   -1., -100.,   -1.,   -1.,\n",
       "        -100.,   -1.],\n",
       "       [  -1.,   -1., -100.,   -1.,   -1.,   -1., -100.,   -1.,   -1.,\n",
       "          -1., -100.,   -1.,   -1.,   -1.,   -1., -100.,   -1.,   -1.,\n",
       "        -100.,   -1.],\n",
       "       [  -1.,   -1.,   -1.,   -1.,   -1.,   -1.,   -1.,   -1.,   -1.,\n",
       "          -1., -100.,   -1.,   -1.,   -1.,   -1.,   -1.,   -1.,   -1.,\n",
       "          -1., -100.],\n",
       "       [  -1.,   -1.,   -1.,   -1.,   -1.,   -1., -100.,   -1.,   -1.,\n",
       "          -1.,   -1.,   -1.,   -1.,   -1., -100.,   -1.,   -1.,   -1.,\n",
       "        -100.,   -1.],\n",
       "       [  -1.,   -1.,   -1., -100.,   -1.,   -1.,   -1.,   -1., -100.,\n",
       "          -1.,   -1., -100., -100., -100.,   -1.,   -1.,   -1., -100.,\n",
       "        -100.,   -1.],\n",
       "       [  -1.,   -1.,   -1.,   -1.,   -1., -100.,   -1.,   -1.,   -1.,\n",
       "          -1.,   -1., -100.,   -1.,   -1.,   -1.,   -1.,   -1., -100.,\n",
       "          -1.,   -1.],\n",
       "       [  -1.,   -1.,   -1.,   -1.,   -1.,   -1.,   -1.,   -1.,   -1.,\n",
       "          -1., -100.,   -1.,   -1., -100., -100.,   -1.,   -1.,   -1.,\n",
       "          -1.,   -1.],\n",
       "       [-100.,   -1., -100.,   -1.,   -1.,   -1., -100.,   -1., -100.,\n",
       "        -100.,   -1.,   -1.,   -1.,   -1.,   -1.,   -1., -100.,   -1.,\n",
       "        -100.,   -1.],\n",
       "       [  -1., -100.,   -1.,   -1.,   -1.,   -1.,   -1.,   -1.,   -1.,\n",
       "          -1.,   -1.,   -1.,   -1.,   -1.,   -1.,   -1., -100.,   -1.,\n",
       "        -100., -100.],\n",
       "       [  -1.,   -1.,   -1.,   -1.,   -1.,   -1.,   -1.,   -1.,   -1.,\n",
       "          -1.,   -1., -100., -100.,   -1., -100.,   -1.,   -1.,   -1.,\n",
       "        -100., -100.],\n",
       "       [  -1.,   -1.,   -1.,   -1.,   -1.,   -1.,   -1.,   -1.,   -1.,\n",
       "          -1., -100.,   -1., -100., -100.,   -1.,   -1.,   -1.,   -1.,\n",
       "          -1.,   -1.],\n",
       "       [  -1., -100.,   -1.,   -1., -100.,   -1.,   -1., -100.,   -1.,\n",
       "        -100.,   -1.,   -1.,   -1.,   -1., -100.,   -1.,   -1.,   -1.,\n",
       "        -100.,   -1.],\n",
       "       [  -1.,   -1., -100.,   -1.,   -1.,   -1., -100.,   -1.,   -1.,\n",
       "          -1.,   -1.,   -1.,   -1., -100.,   -1., -100.,   -1., -100.,\n",
       "          -1.,  100.]])"
      ]
     },
     "execution_count": 73,
     "metadata": {},
     "output_type": "execute_result"
    }
   ],
   "source": [
    "rewards"
   ]
  },
  {
   "cell_type": "code",
   "execution_count": 74,
   "metadata": {
    "colab": {
     "base_uri": "https://localhost:8080/",
     "height": 867
    },
    "id": "whT6I2eFDvhA",
    "outputId": "c1b99dbe-24ed-4835-8109-b0cd1fd9c606"
   },
   "outputs": [
    {
     "data": {
      "image/png": "[encoded data removed]",
      "text/plain": [
       "<Figure size 1080x1080 with 1 Axes>"
      ]
     },
     "metadata": {
      "needs_background": "light"
     },
     "output_type": "display_data"
    }
   ],
   "source": [
    "import matplotlib.pyplot as plt\n",
    "plt.figure(figsize=(15,15))\n",
    "plt.pcolormesh(rewards,edgecolors='b',cmap=plt.cm.hot)\n",
    "plt.xlim(0,horizontal)\n",
    "plt.ylim(vertical,0)\n",
    "plt.xticks(np.arange(0, horizontal, 1.0))\n",
    "plt.yticks(np.arange(0, vertical, 1.0))\n",
    "plt.show()"
   ]
  },
  {
   "cell_type": "code",
   "execution_count": 75,
   "metadata": {
    "id": "cGqB3NEKDzaZ"
   },
   "outputs": [],
   "source": [
    "def is_obstacle_state(current_row,current_col):\n",
    "    if(rewards[current_row,current_col]==-1):\n",
    "        return False\n",
    "    else:\n",
    "        return True"
   ]
  },
  {
   "cell_type": "code",
   "execution_count": 76,
   "metadata": {
    "id": "a-tNypkND126"
   },
   "outputs": [],
   "source": [
    "q_values = np.zeros((horizontal, vertical, 4))"
   ]
  },
  {
   "cell_type": "code",
   "execution_count": 77,
   "metadata": {
    "id": "NXLEfA7hmwTl"
   },
   "outputs": [],
   "source": [
    "def next_action(current_row_index, current_column_index, epsilon):\n",
    "    if np.random.random() < epsilon:\n",
    "        return np.argmax(q_values[current_row_index, current_column_index])\n",
    "    else: \n",
    "        return np.random.randint(4)\n",
    "    \n",
    "def get_next_cell(current_row_index, current_column_index, action_index):\n",
    "    new_row_index = current_row_index\n",
    "    new_column_index = current_column_index\n",
    "    if actions[action_index] == 'up' and current_row_index > 0:\n",
    "        new_row_index -= 1\n",
    "    elif actions[action_index] == 'right' and current_column_index < vertical - 1:\n",
    "        new_column_index += 1\n",
    "    elif actions[action_index] == 'down' and current_row_index < horizontal - 1:\n",
    "        new_row_index += 1\n",
    "    elif actions[action_index] == 'left' and current_column_index > 0:\n",
    "        new_column_index -= 1\n",
    "    return new_row_index, new_column_index\n",
    "\n",
    "def get_shortest_path(start_row_index, start_column_index):\n",
    "    if is_obstacle_state(start_row_index, start_column_index):\n",
    "        return []\n",
    "    else: \n",
    "        current_row_index, current_column_index = start_row_index, start_column_index\n",
    "        shortest_path = []\n",
    "        shortest_path.append([current_row_index, current_column_index])\n",
    "    while not is_obstacle_state(current_row_index, current_column_index):\n",
    "        action_index = next_action(current_row_index, current_column_index, 1.)\n",
    "        current_row_index, current_column_index = get_next_cell(current_row_index, current_column_index, action_index)\n",
    "        shortest_path.append([current_row_index, current_column_index])\n",
    "    return shortest_path"
   ]
  },
  {
   "cell_type": "code",
   "execution_count": 78,
   "metadata": {
    "id": "kocMpscAnovd"
   },
   "outputs": [],
   "source": [
    "lis = ['left','right','up','down']"
   ]
  },
  {
   "cell_type": "code",
   "execution_count": 79,
   "metadata": {
    "colab": {
     "base_uri": "https://localhost:8080/"
    },
    "id": "moFAz1MBm8mT",
    "outputId": "052f4955-33d1-4f92-edea-02685a15a065"
   },
   "outputs": [
    {
     "name": "stdout",
     "output_type": "stream",
     "text": [
      "Training complete!\n"
     ]
    }
   ],
   "source": [
    "epsilon = 1.0\n",
    "discount_factor = 0.9\n",
    "learning_rate = 0.1\n",
    "all_costs = []\n",
    "all_steps = []\n",
    "\n",
    "for episode in range(2000):\n",
    "    row_index, column_index = start[0],start[1]\n",
    "    costs = 0\n",
    "    steps = 0\n",
    "\n",
    "    while not is_obstacle_state(row_index, column_index):\n",
    "        action_index = next_action(row_index, column_index, epsilon)\n",
    "        old_row_index, old_column_index = row_index, column_index \n",
    "        row_index, column_index = get_next_cell(row_index, column_index, action_index)\n",
    "        reward = rewards[row_index, column_index]\n",
    "        old_q_value = q_values[old_row_index, old_column_index, action_index]\n",
    "        new_action_index = next_action(row_index, column_index, epsilon)\n",
    "        temp = q_values[row_index, column_index, new_action_index]\n",
    "        temporal_difference = reward + (discount_factor *temp) - old_q_value\n",
    "        new_q_value = old_q_value + (learning_rate * temporal_difference)\n",
    "        q_values[old_row_index, old_column_index, action_index] = new_q_value\n",
    "        costs+=reward\n",
    "        steps+=1\n",
    "    all_steps.append(steps)\n",
    "    all_costs.append(costs)   \n",
    "print('Training complete!')"
   ]
  },
  {
   "cell_type": "code",
   "execution_count": 80,
   "metadata": {
    "colab": {
     "base_uri": "https://localhost:8080/"
    },
    "id": "EYGs7sIZRnv2",
    "outputId": "c63fddd5-bc9e-4659-d0da-a476198b1185"
   },
   "outputs": [
    {
     "data": {
      "text/plain": [
       "1999"
      ]
     },
     "execution_count": 80,
     "metadata": {},
     "output_type": "execute_result"
    }
   ],
   "source": [
    "episode"
   ]
  },
  {
   "cell_type": "code",
   "execution_count": 81,
   "metadata": {
    "colab": {
     "base_uri": "https://localhost:8080/"
    },
    "id": "aKVbA2G0m_JD",
    "outputId": "e7cee517-707c-4e9a-f6d1-68812a6f25ea"
   },
   "outputs": [
    {
     "data": {
      "text/plain": [
       "array([[[ -9.18941484, -10.        ,  -7.76968845,  -9.18941484],\n",
       "        [  0.        ,   0.        ,   0.        ,   0.        ],\n",
       "        [ -8.89310196,  -8.89294483,  -8.89237974, -10.        ],\n",
       "        ...,\n",
       "        [ -6.72277243,  -6.72277477,  -6.73533919,  -6.7227781 ],\n",
       "        [ -6.72277243,  -6.72277326,  -6.72343955,  -6.72276936],\n",
       "        [ -6.72277243,  -6.72277243, -10.        ,  -6.72426022]],\n",
       "\n",
       "       [[ -9.09469801,  -9.09448465,  -7.52187605,  -9.09466042],\n",
       "        [-10.        ,  -9.0116284 ,  -9.00868896,  -9.02081741],\n",
       "        [ -8.94437366,  -8.94345664, -10.        ,  -8.94642871],\n",
       "        ...,\n",
       "        [ -6.72282697,  -6.7226489 ,  -6.72903086, -10.        ],\n",
       "        [ -6.72274508, -10.        , -10.        ,  -6.72300698],\n",
       "        [  0.        ,   0.        ,   0.        ,   0.        ]],\n",
       "\n",
       "       [[ -9.01016618,  -9.00080942,  -7.24652894,  -9.00895184],\n",
       "        [ -8.93243586, -10.        ,  -8.89709067,  -8.92593715],\n",
       "        [  0.        ,   0.        ,   0.        ,   0.        ],\n",
       "        ...,\n",
       "        [ -6.72247381, -10.        ,  -6.72271389,  -6.70176517],\n",
       "        [  0.        ,   0.        ,   0.        ,   0.        ],\n",
       "        [  0.        ,   0.        ,   0.        ,   0.        ]],\n",
       "\n",
       "       ...,\n",
       "\n",
       "       [[ -6.30136889,  -6.27570627,  -6.26537819,  -6.2653572 ],\n",
       "        [ -6.29935199,  -6.26974414, -10.        ,  -6.26538618],\n",
       "        [ -6.27438368,  -6.28905404,  -6.27533095,  -6.26096674],\n",
       "        ...,\n",
       "        [ -0.97674921,  70.19      ,  -0.92138944,  -0.93809049],\n",
       "        [-10.        ,  79.1       , -10.        ,  -0.49056781],\n",
       "        [-10.        ,  -0.199     ,  89.        ,  -0.23272247]],\n",
       "\n",
       "       [[ -6.2797516 , -10.        ,  -6.26536187,  -6.2653572 ],\n",
       "        [  0.        ,   0.        ,   0.        ,   0.        ],\n",
       "        [ -6.27137108,  -6.23582636, -10.        , -10.        ],\n",
       "        ...,\n",
       "        [ -1.04875441, -10.        , -10.        ,  -1.0226229 ],\n",
       "        [  0.        ,   0.        ,   0.        ,   0.        ],\n",
       "        [ -0.1       ,  -0.1       , 100.        ,   0.        ]],\n",
       "\n",
       "       [[ -6.28141217,  -6.26536343,  -6.2653572 ,  -6.2653572 ],\n",
       "        [-10.        , -10.        ,  -6.2653572 ,  -6.28277659],\n",
       "        [  0.        ,   0.        ,   0.        ,   0.        ],\n",
       "        ...,\n",
       "        [  0.        ,   0.        ,   0.        ,   0.        ],\n",
       "        [  0.        ,   0.        ,   0.        ,   0.        ],\n",
       "        [  0.        ,   0.        ,   0.        ,   0.        ]]])"
      ]
     },
     "execution_count": 81,
     "metadata": {},
     "output_type": "execute_result"
    }
   ],
   "source": [
    "q_values"
   ]
  },
  {
   "cell_type": "code",
   "execution_count": 82,
   "metadata": {
    "colab": {
     "base_uri": "https://localhost:8080/"
    },
    "id": "78T5xO-VqHGR",
    "outputId": "6a3fb3ce-e50a-4e98-b82d-0a590ecd6418"
   },
   "outputs": [
    {
     "name": "stdout",
     "output_type": "stream",
     "text": [
      "[[0, 0], [1, 0], [2, 0], [3, 0], [3, 1], [4, 1], [5, 1], [6, 1], [7, 1], [8, 1], [9, 1], [10, 1], [11, 1], [11, 2], [12, 2], [12, 3], [13, 3], [14, 3], [14, 4], [15, 4], [15, 5], [15, 6], [15, 7], [15, 8], [15, 9], [15, 10], [15, 11], [15, 12], [15, 13], [15, 14], [15, 15], [16, 15], [16, 16], [16, 17], [17, 17], [17, 18], [17, 19], [18, 19], [19, 19]]\n"
     ]
    }
   ],
   "source": [
    "print(get_shortest_path(start[0], start[1]))"
   ]
  },
  {
   "cell_type": "code",
   "execution_count": null,
   "metadata": {
    "id": "fGxw3B3rkV-T"
   },
   "outputs": [],
   "source": [
    "all_steps"
   ]
  },
  {
   "cell_type": "code",
   "execution_count": 84,
   "metadata": {
    "id": "lzAROQfznCaL"
   },
   "outputs": [],
   "source": [
    "#displaying qtable as dataframe\n",
    "\n",
    "q = np.zeros((horizontal*vertical,6))\n",
    "q_table = pd.DataFrame(q)\n",
    "q_table.columns = ['state_row','state_col','up','down','left','right']\n",
    "q_table['state_col'] = q_table['state_col'].astype(int)\n",
    "q_table['state_row'] = q_table['state_row'].astype(int)\n",
    "l=0\n",
    "for i in range(vertical*horizontal):\n",
    "    for j in range(vertical):\n",
    "        q_table['state_col'][l+j]= j\n",
    "    for k in range(horizontal):\n",
    "        q_table['state_row'][l+k]=i\n",
    "    l+=vertical"
   ]
  },
  {
   "cell_type": "code",
   "execution_count": 85,
   "metadata": {
    "id": "Y2rSEPb9nCcs"
   },
   "outputs": [],
   "source": [
    "for i in range(len(q_values[0])):\n",
    "  for j in range(len(q_values[1])):\n",
    "    index = q_table[(q_table['state_row']==i) & (q_table['state_col']==j)].index\n",
    "    index = int(index[0])\n",
    "    for k in range(4):\n",
    "       q_table.iloc[index,k+2] = q_values[i][j][k]"
   ]
  },
  {
   "cell_type": "code",
   "execution_count": 86,
   "metadata": {
    "colab": {
     "base_uri": "https://localhost:8080/",
     "height": 423
    },
    "id": "XoK8BLOqnGa7",
    "outputId": "73b97352-0ca3-45b1-a358-659e00195483"
   },
   "outputs": [
    {
     "data": {
      "text/html": [
       "\n",
       "  <div id=\"df-80bbd208-2aab-442a-b39c-5f9ec5043559\">\n",
       "    <div class=\"colab-df-container\">\n",
       "      <div>\n",
       "<style scoped>\n",
       "    .dataframe tbody tr th:only-of-type {\n",
       "        vertical-align: middle;\n",
       "    }\n",
       "\n",
       "    .dataframe tbody tr th {\n",
       "        vertical-align: top;\n",
       "    }\n",
       "\n",
       "    .dataframe thead th {\n",
       "        text-align: right;\n",
       "    }\n",
       "</style>\n",
       "<table border=\"1\" class=\"dataframe\">\n",
       "  <thead>\n",
       "    <tr style=\"text-align: right;\">\n",
       "      <th></th>\n",
       "      <th>state_row</th>\n",
       "      <th>state_col</th>\n",
       "      <th>up</th>\n",
       "      <th>down</th>\n",
       "      <th>left</th>\n",
       "      <th>right</th>\n",
       "    </tr>\n",
       "  </thead>\n",
       "  <tbody>\n",
       "    <tr>\n",
       "      <th>0</th>\n",
       "      <td>0</td>\n",
       "      <td>0</td>\n",
       "      <td>-9.189415</td>\n",
       "      <td>-10.000000</td>\n",
       "      <td>-7.769688</td>\n",
       "      <td>-9.189415</td>\n",
       "    </tr>\n",
       "    <tr>\n",
       "      <th>1</th>\n",
       "      <td>0</td>\n",
       "      <td>1</td>\n",
       "      <td>0.000000</td>\n",
       "      <td>0.000000</td>\n",
       "      <td>0.000000</td>\n",
       "      <td>0.000000</td>\n",
       "    </tr>\n",
       "    <tr>\n",
       "      <th>2</th>\n",
       "      <td>0</td>\n",
       "      <td>2</td>\n",
       "      <td>-8.893102</td>\n",
       "      <td>-8.892945</td>\n",
       "      <td>-8.892380</td>\n",
       "      <td>-10.000000</td>\n",
       "    </tr>\n",
       "    <tr>\n",
       "      <th>3</th>\n",
       "      <td>0</td>\n",
       "      <td>3</td>\n",
       "      <td>-8.836057</td>\n",
       "      <td>-8.829024</td>\n",
       "      <td>-8.833522</td>\n",
       "      <td>-8.836103</td>\n",
       "    </tr>\n",
       "    <tr>\n",
       "      <th>4</th>\n",
       "      <td>0</td>\n",
       "      <td>4</td>\n",
       "      <td>-8.738608</td>\n",
       "      <td>-8.737642</td>\n",
       "      <td>-10.000000</td>\n",
       "      <td>-8.737149</td>\n",
       "    </tr>\n",
       "    <tr>\n",
       "      <th>...</th>\n",
       "      <td>...</td>\n",
       "      <td>...</td>\n",
       "      <td>...</td>\n",
       "      <td>...</td>\n",
       "      <td>...</td>\n",
       "      <td>...</td>\n",
       "    </tr>\n",
       "    <tr>\n",
       "      <th>395</th>\n",
       "      <td>19</td>\n",
       "      <td>15</td>\n",
       "      <td>0.000000</td>\n",
       "      <td>0.000000</td>\n",
       "      <td>0.000000</td>\n",
       "      <td>0.000000</td>\n",
       "    </tr>\n",
       "    <tr>\n",
       "      <th>396</th>\n",
       "      <td>19</td>\n",
       "      <td>16</td>\n",
       "      <td>-1.206451</td>\n",
       "      <td>-10.000000</td>\n",
       "      <td>-1.136151</td>\n",
       "      <td>-10.000000</td>\n",
       "    </tr>\n",
       "    <tr>\n",
       "      <th>397</th>\n",
       "      <td>19</td>\n",
       "      <td>17</td>\n",
       "      <td>0.000000</td>\n",
       "      <td>0.000000</td>\n",
       "      <td>0.000000</td>\n",
       "      <td>0.000000</td>\n",
       "    </tr>\n",
       "    <tr>\n",
       "      <th>398</th>\n",
       "      <td>19</td>\n",
       "      <td>18</td>\n",
       "      <td>0.000000</td>\n",
       "      <td>0.000000</td>\n",
       "      <td>0.000000</td>\n",
       "      <td>0.000000</td>\n",
       "    </tr>\n",
       "    <tr>\n",
       "      <th>399</th>\n",
       "      <td>19</td>\n",
       "      <td>19</td>\n",
       "      <td>0.000000</td>\n",
       "      <td>0.000000</td>\n",
       "      <td>0.000000</td>\n",
       "      <td>0.000000</td>\n",
       "    </tr>\n",
       "  </tbody>\n",
       "</table>\n",
       "<p>400 rows × 6 columns</p>\n",
       "</div>\n",
       "      <button class=\"colab-df-convert\" onclick=\"convertToInteractive('df-80bbd208-2aab-442a-b39c-5f9ec5043559')\"\n",
       "              title=\"Convert this dataframe to an interactive table.\"\n",
       "              style=\"display:none;\">\n",
       "        \n",
       "  <svg xmlns=\"http://www.w3.org/2000/svg\" height=\"24px\"viewBox=\"0 0 24 24\"\n",
       "       width=\"24px\">\n",
       "    <path d=\"M0 0h24v24H0V0z\" fill=\"none\"/>\n",
       "    <path d=\"M18.56 5.44l.94 2.06.94-2.06 2.06-.94-2.06-.94-.94-2.06-.94 2.06-2.06.94zm-11 1L8.5 8.5l.94-2.06 2.06-.94-2.06-.94L8.5 2.5l-.94 2.06-2.06.94zm10 10l.94 2.06.94-2.06 2.06-.94-2.06-.94-.94-2.06-.94 2.06-2.06.94z\"/><path d=\"M17.41 7.96l-1.37-1.37c-.4-.4-.92-.59-1.43-.59-.52 0-1.04.2-1.43.59L10.3 9.45l-7.72 7.72c-.78.78-.78 2.05 0 2.83L4 21.41c.39.39.9.59 1.41.59.51 0 1.02-.2 1.41-.59l7.78-7.78 2.81-2.81c.8-.78.8-2.07 0-2.86zM5.41 20L4 18.59l7.72-7.72 1.47 1.35L5.41 20z\"/>\n",
       "  </svg>\n",
       "      </button>\n",
       "      \n",
       "  <style>\n",
       "    .colab-df-container {\n",
       "      display:flex;\n",
       "      flex-wrap:wrap;\n",
       "      gap: 12px;\n",
       "    }\n",
       "\n",
       "    .colab-df-convert {\n",
       "      background-color: #E8F0FE;\n",
       "      border: none;\n",
       "      border-radius: 50%;\n",
       "      cursor: pointer;\n",
       "      display: none;\n",
       "      fill: #1967D2;\n",
       "      height: 32px;\n",
       "      padding: 0 0 0 0;\n",
       "      width: 32px;\n",
       "    }\n",
       "\n",
       "    .colab-df-convert:hover {\n",
       "      background-color: #E2EBFA;\n",
       "      box-shadow: 0px 1px 2px rgba(60, 64, 67, 0.3), 0px 1px 3px 1px rgba(60, 64, 67, 0.15);\n",
       "      fill: #174EA6;\n",
       "    }\n",
       "\n",
       "    [theme=dark] .colab-df-convert {\n",
       "      background-color: #3B4455;\n",
       "      fill: #D2E3FC;\n",
       "    }\n",
       "\n",
       "    [theme=dark] .colab-df-convert:hover {\n",
       "      background-color: #434B5C;\n",
       "      box-shadow: 0px 1px 3px 1px rgba(0, 0, 0, 0.15);\n",
       "      filter: drop-shadow(0px 1px 2px rgba(0, 0, 0, 0.3));\n",
       "      fill: #FFFFFF;\n",
       "    }\n",
       "  </style>\n",
       "\n",
       "      <script>\n",
       "        const buttonEl =\n",
       "          document.querySelector('#df-80bbd208-2aab-442a-b39c-5f9ec5043559 button.colab-df-convert');\n",
       "        buttonEl.style.display =\n",
       "          google.colab.kernel.accessAllowed ? 'block' : 'none';\n",
       "\n",
       "        async function convertToInteractive(key) {\n",
       "          const element = document.querySelector('#df-80bbd208-2aab-442a-b39c-5f9ec5043559');\n",
       "          const dataTable =\n",
       "            await google.colab.kernel.invokeFunction('convertToInteractive',\n",
       "                                                     [key], {});\n",
       "          if (!dataTable) return;\n",
       "\n",
       "          const docLinkHtml = 'Like what you see? Visit the ' +\n",
       "            '<a target=\"_blank\" href=https://colab.research.google.com/notebooks/data_table.ipynb>data table notebook</a>'\n",
       "            + ' to learn more about interactive tables.';\n",
       "          element.innerHTML = '';\n",
       "          dataTable['output_type'] = 'display_data';\n",
       "          await google.colab.output.renderOutput(dataTable, element);\n",
       "          const docLink = document.createElement('div');\n",
       "          docLink.innerHTML = docLinkHtml;\n",
       "          element.appendChild(docLink);\n",
       "        }\n",
       "      </script>\n",
       "    </div>\n",
       "  </div>\n",
       "  "
      ],
      "text/plain": [
       "     state_row  state_col        up       down       left      right\n",
       "0            0          0 -9.189415 -10.000000  -7.769688  -9.189415\n",
       "1            0          1  0.000000   0.000000   0.000000   0.000000\n",
       "2            0          2 -8.893102  -8.892945  -8.892380 -10.000000\n",
       "3            0          3 -8.836057  -8.829024  -8.833522  -8.836103\n",
       "4            0          4 -8.738608  -8.737642 -10.000000  -8.737149\n",
       "..         ...        ...       ...        ...        ...        ...\n",
       "395         19         15  0.000000   0.000000   0.000000   0.000000\n",
       "396         19         16 -1.206451 -10.000000  -1.136151 -10.000000\n",
       "397         19         17  0.000000   0.000000   0.000000   0.000000\n",
       "398         19         18  0.000000   0.000000   0.000000   0.000000\n",
       "399         19         19  0.000000   0.000000   0.000000   0.000000\n",
       "\n",
       "[400 rows x 6 columns]"
      ]
     },
     "execution_count": 86,
     "metadata": {},
     "output_type": "execute_result"
    }
   ],
   "source": [
    "q_table"
   ]
  },
  {
   "cell_type": "code",
   "execution_count": 87,
   "metadata": {
    "id": "tHfJcmVjnGdL"
   },
   "outputs": [],
   "source": [
    "list1  = get_shortest_path(start[0], start[1])"
   ]
  },
  {
   "cell_type": "code",
   "execution_count": 88,
   "metadata": {
    "id": "yC_Cq3SonK2U"
   },
   "outputs": [],
   "source": [
    "action_direction = dict()\n",
    "for i in range(len(list1)-1):\n",
    "  if(list1[i][0] - list1[i+1][0] == -1):\n",
    "    action_direction[(list1[i][0],list1[i][1])] = \"LEFT\"\n",
    "  elif(list1[i][0] - list1[i+1][0] == 1):\n",
    "    action_direction[(list1[i][0],list1[i][1])] = \"RIGHT\"\n",
    "  elif(list1[i][1] - list1[i+1][1] == -1):\n",
    "    action_direction[(list1[i][0],list1[i][1])] = \"UP\"\n",
    "  elif(list1[i][1] - list1[i+1][1] == 1):\n",
    "    action_direction[(list1[i][0],list1[i][1])] = \"DOWN\""
   ]
  },
  {
   "cell_type": "code",
   "execution_count": 89,
   "metadata": {
    "colab": {
     "base_uri": "https://localhost:8080/"
    },
    "id": "M7SpnlcrnK6d",
    "outputId": "0ceda582-c9e1-4565-f2fe-fd700c65ded5"
   },
   "outputs": [
    {
     "data": {
      "text/plain": [
       "{(0, 0): 'LEFT',\n",
       " (1, 0): 'LEFT',\n",
       " (2, 0): 'LEFT',\n",
       " (3, 0): 'UP',\n",
       " (3, 1): 'LEFT',\n",
       " (4, 1): 'LEFT',\n",
       " (5, 1): 'LEFT',\n",
       " (6, 1): 'LEFT',\n",
       " (7, 1): 'LEFT',\n",
       " (8, 1): 'LEFT',\n",
       " (9, 1): 'LEFT',\n",
       " (10, 1): 'LEFT',\n",
       " (11, 1): 'UP',\n",
       " (11, 2): 'LEFT',\n",
       " (12, 2): 'UP',\n",
       " (12, 3): 'LEFT',\n",
       " (13, 3): 'LEFT',\n",
       " (14, 3): 'UP',\n",
       " (14, 4): 'LEFT',\n",
       " (15, 4): 'UP',\n",
       " (15, 5): 'UP',\n",
       " (15, 6): 'UP',\n",
       " (15, 7): 'UP',\n",
       " (15, 8): 'UP',\n",
       " (15, 9): 'UP',\n",
       " (15, 10): 'UP',\n",
       " (15, 11): 'UP',\n",
       " (15, 12): 'UP',\n",
       " (15, 13): 'UP',\n",
       " (15, 14): 'UP',\n",
       " (15, 15): 'LEFT',\n",
       " (16, 15): 'UP',\n",
       " (16, 16): 'UP',\n",
       " (16, 17): 'LEFT',\n",
       " (17, 17): 'UP',\n",
       " (17, 18): 'UP',\n",
       " (17, 19): 'LEFT',\n",
       " (18, 19): 'LEFT'}"
      ]
     },
     "execution_count": 89,
     "metadata": {},
     "output_type": "execute_result"
    }
   ],
   "source": [
    "action_direction"
   ]
  },
  {
   "cell_type": "code",
   "execution_count": 90,
   "metadata": {
    "id": "ehRAGQQpnK9L"
   },
   "outputs": [],
   "source": [
    "direction_map = {\n",
    "    'UP'   : ( 0, 1),\n",
    "    'DOWN' : ( 0,-1),\n",
    "    'RIGHT': ( 1, 0),\n",
    "    'LEFT' : (-1, 0)\n",
    "}"
   ]
  },
  {
   "cell_type": "code",
   "execution_count": 91,
   "metadata": {
    "colab": {
     "base_uri": "https://localhost:8080/",
     "height": 867
    },
    "id": "lcB8Qcy-nSK0",
    "outputId": "5f62c053-5285-41e3-8c6e-fa455cdca1d1"
   },
   "outputs": [
    {
     "data": {
      "image/png": "[encoded data removed]",
      "text/plain": [
       "<Figure size 1080x1080 with 1 Axes>"
      ]
     },
     "metadata": {
      "needs_background": "light"
     },
     "output_type": "display_data"
    }
   ],
   "source": [
    "def arrow_position(location, arrow_direction):\n",
    "    if arrow_direction == 'UP':\n",
    "        correction = (.5, .3)\n",
    "    elif arrow_direction == 'DOWN':\n",
    "        correction = (.6, .3)\n",
    "    elif arrow_direction == 'RIGHT':\n",
    "        correction = (.4, .5)\n",
    "    elif arrow_direction == 'LEFT':\n",
    "        correction = (.6, .5)\n",
    "    return (location[0]+correction[0],\n",
    "            location[1]+correction[1])\n",
    "\n",
    "\n",
    "fig, ax = plt.subplots(figsize=(15,15))\n",
    "plt.pcolormesh(rewards,edgecolor='b',cmap=plt.cm.hot)\n",
    "plt.xlim(0,horizontal)\n",
    "plt.ylim(vertical,0)\n",
    "# plt.grid(True)\n",
    "plt.xticks(np.arange(0, horizontal, 1.0))\n",
    "plt.yticks(np.arange(0, vertical, 1.0))\n",
    "\n",
    "locations = action_direction.keys()\n",
    "for location in locations:\n",
    "    arrow_direction = action_direction[location]\n",
    "    x_pos, y_pos = arrow_position(location, arrow_direction)\n",
    "    x_direct, y_direct = direction_map[arrow_direction]\n",
    "    ax.quiver(\n",
    "        y_pos,x_pos,\n",
    "        y_direct,x_direct,\n",
    "        scale=30)\n",
    "\n",
    "# plt.figure(figsize=(15,15))\n",
    "plt.show()"
   ]
  },
  {
   "cell_type": "code",
   "execution_count": 92,
   "metadata": {
    "id": "CYKXS7c7jaNZ"
   },
   "outputs": [],
   "source": [
    "episodes = []\n",
    "for i in range(0,2000):\n",
    "  episodes.append(i)"
   ]
  },
  {
   "cell_type": "code",
   "execution_count": 94,
   "metadata": {
    "colab": {
     "base_uri": "https://localhost:8080/",
     "height": 606
    },
    "id": "PrTLTKxbjMEq",
    "outputId": "54fc61c3-511e-456b-fa44-35056d41d449"
   },
   "outputs": [
    {
     "data": {
      "image/png": "[encoded data removed]",
      "text/plain": [
       "<Figure size 720x720 with 1 Axes>"
      ]
     },
     "metadata": {
      "needs_background": "light"
     },
     "output_type": "display_data"
    }
   ],
   "source": [
    "import matplotlib.pyplot as plt\n",
    "plt.figure(figsize=(10,10))\n",
    "plt.plot(episodes,all_steps)\n",
    "plt.xlabel(\"Episodes\")\n",
    "plt.ylabel(\"Steps per Episode\")\n",
    "plt.show()"
   ]
  },
  {
   "cell_type": "code",
   "execution_count": 96,
   "metadata": {
    "colab": {
     "base_uri": "https://localhost:8080/",
     "height": 606
    },
    "id": "f_wJWdgmtczH",
    "outputId": "660ac076-6931-4d6a-b9f7-6154f9390b08"
   },
   "outputs": [
    {
     "data": {
      "image/png": "[encoded data removed]",
      "text/plain": [
       "<Figure size 720x720 with 1 Axes>"
      ]
     },
     "metadata": {
      "needs_background": "light"
     },
     "output_type": "display_data"
    }
   ],
   "source": [
    "plt.figure(figsize=(10,10))\n",
    "plt.plot(episodes,all_costs)\n",
    "plt.xlabel(\"Episodes\")\n",
    "plt.ylabel(\"Reward per Episode\")\n",
    "plt.show()"
   ]
  }
 ],
 "metadata": {
  "accelerator": "GPU",
  "colab": {
   "collapsed_sections": [],
   "name": "SARSA_with_simulation_ep=1.ipynb",
   "provenance": []
  },
  "kernelspec": {
   "display_name": "Python 3",
   "language": "python",
   "name": "python3"
  },
  "language_info": {
   "codemirror_mode": {
    "name": "ipython",
    "version": 3
   },
   "file_extension": ".py",
   "mimetype": "text/x-python",
   "name": "python",
   "nbconvert_exporter": "python",
   "pygments_lexer": "ipython3",
   "version": "3.7.6"
  }
 },
 "nbformat": 4,
 "nbformat_minor": 1
}
