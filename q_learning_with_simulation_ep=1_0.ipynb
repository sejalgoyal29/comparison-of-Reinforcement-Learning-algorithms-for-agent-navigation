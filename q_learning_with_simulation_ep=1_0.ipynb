{
 "cells": [
  {
   "cell_type": "markdown",
   "metadata": {
    "id": "gDi1I_hUy7Kw"
   },
   "source": [
    "### Importing the libraries"
   ]
  },
  {
   "cell_type": "code",
   "execution_count": null,
   "metadata": {
    "id": "fd274169"
   },
   "outputs": [],
   "source": [
    "import numpy as np\n",
    "import pandas as pd\n",
    "import matplotlib.pyplot as plt\n",
    "import random\n",
    "import warnings\n",
    "warnings.filterwarnings(\"ignore\")"
   ]
  },
  {
   "cell_type": "markdown",
   "metadata": {
    "id": "Q963XkTfzMSh"
   },
   "source": [
    "### Creating the path grid"
   ]
  },
  {
   "cell_type": "code",
   "execution_count": null,
   "metadata": {
    "id": "c3c45c0f"
   },
   "outputs": [],
   "source": [
    "#create a user defined grid of size m*n\n",
    "def create_board(vertical,horizontal):\n",
    "    board = [[0 for column in range(vertical)] for  cell in range(horizontal)]\n",
    "    board = np.array(board)\n",
    "    return board"
   ]
  },
  {
   "cell_type": "code",
   "execution_count": null,
   "metadata": {
    "colab": {
     "base_uri": "https://localhost:8080/"
    },
    "id": "97024164",
    "outputId": "76db8621-4721-4be7-f193-acbccfcc0880"
   },
   "outputs": [
    {
     "data": {
      "text/plain": [
       "array([[0, 0, 0, 0, 0, 0, 0, 0, 0, 0, 0, 0, 0, 0, 0, 0, 0, 0, 0, 0],\n",
       "       [0, 0, 0, 0, 0, 0, 0, 0, 0, 0, 0, 0, 0, 0, 0, 0, 0, 0, 0, 0],\n",
       "       [0, 0, 0, 0, 0, 0, 0, 0, 0, 0, 0, 0, 0, 0, 0, 0, 0, 0, 0, 0],\n",
       "       [0, 0, 0, 0, 0, 0, 0, 0, 0, 0, 0, 0, 0, 0, 0, 0, 0, 0, 0, 0],\n",
       "       [0, 0, 0, 0, 0, 0, 0, 0, 0, 0, 0, 0, 0, 0, 0, 0, 0, 0, 0, 0],\n",
       "       [0, 0, 0, 0, 0, 0, 0, 0, 0, 0, 0, 0, 0, 0, 0, 0, 0, 0, 0, 0],\n",
       "       [0, 0, 0, 0, 0, 0, 0, 0, 0, 0, 0, 0, 0, 0, 0, 0, 0, 0, 0, 0],\n",
       "       [0, 0, 0, 0, 0, 0, 0, 0, 0, 0, 0, 0, 0, 0, 0, 0, 0, 0, 0, 0],\n",
       "       [0, 0, 0, 0, 0, 0, 0, 0, 0, 0, 0, 0, 0, 0, 0, 0, 0, 0, 0, 0],\n",
       "       [0, 0, 0, 0, 0, 0, 0, 0, 0, 0, 0, 0, 0, 0, 0, 0, 0, 0, 0, 0],\n",
       "       [0, 0, 0, 0, 0, 0, 0, 0, 0, 0, 0, 0, 0, 0, 0, 0, 0, 0, 0, 0],\n",
       "       [0, 0, 0, 0, 0, 0, 0, 0, 0, 0, 0, 0, 0, 0, 0, 0, 0, 0, 0, 0],\n",
       "       [0, 0, 0, 0, 0, 0, 0, 0, 0, 0, 0, 0, 0, 0, 0, 0, 0, 0, 0, 0],\n",
       "       [0, 0, 0, 0, 0, 0, 0, 0, 0, 0, 0, 0, 0, 0, 0, 0, 0, 0, 0, 0],\n",
       "       [0, 0, 0, 0, 0, 0, 0, 0, 0, 0, 0, 0, 0, 0, 0, 0, 0, 0, 0, 0],\n",
       "       [0, 0, 0, 0, 0, 0, 0, 0, 0, 0, 0, 0, 0, 0, 0, 0, 0, 0, 0, 0],\n",
       "       [0, 0, 0, 0, 0, 0, 0, 0, 0, 0, 0, 0, 0, 0, 0, 0, 0, 0, 0, 0],\n",
       "       [0, 0, 0, 0, 0, 0, 0, 0, 0, 0, 0, 0, 0, 0, 0, 0, 0, 0, 0, 0],\n",
       "       [0, 0, 0, 0, 0, 0, 0, 0, 0, 0, 0, 0, 0, 0, 0, 0, 0, 0, 0, 0],\n",
       "       [0, 0, 0, 0, 0, 0, 0, 0, 0, 0, 0, 0, 0, 0, 0, 0, 0, 0, 0, 0]])"
      ]
     },
     "execution_count": 3,
     "metadata": {},
     "output_type": "execute_result"
    }
   ],
   "source": [
    "board = create_board(20,20)\n",
    "board"
   ]
  },
  {
   "cell_type": "code",
   "execution_count": null,
   "metadata": {
    "id": "b73c4672"
   },
   "outputs": [],
   "source": [
    "actions = ['up', 'right', 'down', 'left']"
   ]
  },
  {
   "cell_type": "markdown",
   "metadata": {
    "id": "lX8HjTs1zSTP"
   },
   "source": [
    "### Initializing the obstacles in the path"
   ]
  },
  {
   "cell_type": "code",
   "execution_count": null,
   "metadata": {
    "id": "89dc47a9"
   },
   "outputs": [],
   "source": [
    "def intialize_obstacles(start,end):\n",
    "    obstacles = []\n",
    "    limit = int((board.shape[0]*board.shape[1])/4)\n",
    "    count = 0\n",
    "    while(count!=limit):\n",
    "        ran = np.random.randint((board.shape[0]*board.shape[1]))\n",
    "        if(ran!=start and ran!=end and ran not in obstacles):\n",
    "            obstacles.append(ran)\n",
    "            count+=1\n",
    "        else:\n",
    "            continue\n",
    "    return obstacles"
   ]
  },
  {
   "cell_type": "code",
   "execution_count": null,
   "metadata": {
    "id": "e9d929b3"
   },
   "outputs": [],
   "source": [
    "def position_obstacles(board,obstacles):\n",
    "    horizontal = board.shape[0]\n",
    "    vertical = board.shape[1]\n",
    "    board = board.flatten()\n",
    "    for i in obstacles:\n",
    "        board[i] = -1\n",
    "    board = np.reshape(board,(vertical,horizontal))\n",
    "    return board"
   ]
  },
  {
   "cell_type": "code",
   "execution_count": null,
   "metadata": {
    "id": "c67253cd"
   },
   "outputs": [],
   "source": [
    "def multiplyList(l,col,row) :\n",
    "    res = col*(l[0])+l[1]\n",
    "    return res"
   ]
  },
  {
   "cell_type": "markdown",
   "metadata": {
    "id": "i2FrU8cpzZXh"
   },
   "source": [
    "Setting the start and end parameters"
   ]
  },
  {
   "cell_type": "code",
   "execution_count": null,
   "metadata": {
    "id": "ea08919c"
   },
   "outputs": [],
   "source": [
    "start = [0,0]\n",
    "end = [19,19]\n",
    "\n",
    "vertical = 20\n",
    "horizontal = 20"
   ]
  },
  {
   "cell_type": "code",
   "execution_count": null,
   "metadata": {
    "id": "9dc6d6c6"
   },
   "outputs": [],
   "source": [
    "obstacles = intialize_obstacles(multiplyList(start,vertical,horizontal),multiplyList(end,vertical,horizontal))"
   ]
  },
  {
   "cell_type": "code",
   "execution_count": null,
   "metadata": {
    "colab": {
     "base_uri": "https://localhost:8080/"
    },
    "id": "39f79946",
    "outputId": "b00be61a-8bdc-444e-fa20-2471e65b094e"
   },
   "outputs": [
    {
     "data": {
      "text/plain": [
       "array([[ 0,  0, -1,  0,  0,  0,  0,  0,  0,  0, -1,  0,  0,  0, -1, -1,\n",
       "         0,  0,  0, -1],\n",
       "       [ 0, -1,  0, -1,  0,  0,  0,  0,  0,  0, -1, -1,  0,  0,  0,  0,\n",
       "         0,  0,  0,  0],\n",
       "       [ 0,  0,  0, -1,  0, -1,  0,  0, -1,  0, -1,  0,  0,  0,  0,  0,\n",
       "        -1,  0, -1, -1],\n",
       "       [ 0,  0,  0, -1,  0,  0,  0,  0,  0,  0,  0,  0,  0,  0,  0,  0,\n",
       "        -1,  0,  0,  0],\n",
       "       [ 0,  0,  0, -1,  0,  0,  0,  0,  0, -1, -1,  0,  0, -1,  0,  0,\n",
       "         0, -1,  0, -1],\n",
       "       [ 0,  0,  0,  0,  0,  0,  0,  0, -1,  0,  0, -1, -1,  0,  0, -1,\n",
       "        -1,  0,  0,  0],\n",
       "       [-1, -1,  0,  0,  0, -1, -1,  0,  0,  0,  0,  0, -1,  0,  0,  0,\n",
       "         0,  0,  0, -1],\n",
       "       [ 0,  0,  0,  0,  0,  0,  0,  0,  0,  0,  0,  0,  0,  0,  0,  0,\n",
       "         0, -1,  0,  0],\n",
       "       [ 0,  0,  0,  0, -1,  0,  0,  0,  0,  0,  0,  0, -1,  0,  0, -1,\n",
       "        -1,  0,  0,  0],\n",
       "       [ 0,  0,  0,  0,  0,  0,  0, -1,  0, -1,  0, -1,  0, -1,  0,  0,\n",
       "         0,  0,  0,  0],\n",
       "       [-1,  0,  0,  0,  0,  0,  0, -1,  0,  0,  0, -1,  0,  0,  0,  0,\n",
       "         0,  0,  0, -1],\n",
       "       [-1,  0,  0, -1, -1, -1,  0, -1,  0,  0, -1,  0,  0, -1,  0,  0,\n",
       "        -1, -1,  0, -1],\n",
       "       [ 0,  0,  0, -1,  0, -1,  0,  0,  0,  0,  0,  0, -1, -1,  0, -1,\n",
       "         0,  0,  0,  0],\n",
       "       [ 0,  0,  0, -1,  0,  0,  0, -1,  0,  0,  0,  0,  0, -1,  0, -1,\n",
       "         0,  0,  0,  0],\n",
       "       [-1,  0,  0,  0, -1,  0,  0, -1,  0,  0,  0,  0,  0,  0,  0,  0,\n",
       "        -1,  0,  0,  0],\n",
       "       [ 0,  0, -1,  0, -1,  0, -1,  0, -1,  0,  0, -1, -1,  0,  0,  0,\n",
       "         0,  0, -1,  0],\n",
       "       [-1, -1, -1,  0,  0,  0,  0,  0,  0,  0,  0,  0, -1,  0,  0,  0,\n",
       "         0,  0,  0, -1],\n",
       "       [ 0, -1,  0,  0,  0, -1, -1, -1,  0, -1,  0,  0, -1,  0, -1, -1,\n",
       "         0,  0, -1,  0],\n",
       "       [ 0,  0,  0,  0,  0,  0,  0,  0, -1, -1,  0,  0,  0,  0, -1, -1,\n",
       "        -1,  0,  0,  0],\n",
       "       [ 0,  0,  0,  0,  0,  0,  0, -1,  0,  0,  0,  0,  0, -1,  0,  0,\n",
       "         0,  0, -1,  0]])"
      ]
     },
     "execution_count": 10,
     "metadata": {},
     "output_type": "execute_result"
    }
   ],
   "source": [
    "board_with_obstacles = position_obstacles(board,obstacles)\n",
    "board_with_obstacles"
   ]
  },
  {
   "cell_type": "code",
   "execution_count": null,
   "metadata": {
    "colab": {
     "base_uri": "https://localhost:8080/"
    },
    "id": "52c5b21f",
    "outputId": "d32c7609-6ce9-4ca0-f659-81c1ba4c6e2c"
   },
   "outputs": [
    {
     "data": {
      "text/plain": [
       "(20, 20, 100.0)"
      ]
     },
     "execution_count": 11,
     "metadata": {},
     "output_type": "execute_result"
    }
   ],
   "source": [
    "rewards = np.full((horizontal,vertical),-100.)\n",
    "rewards[end[0],end[1]]= 100\n",
    "for i in range(len(board_with_obstacles)):\n",
    "    for j in range(len(board_with_obstacles[0])):\n",
    "        # print(i,j)\n",
    "        if(board_with_obstacles[i][j]==0 and rewards[i][j]!=100):\n",
    "            rewards[i][j]=-1\n",
    "\n",
    "len(board_with_obstacles),len(board_with_obstacles[0]),rewards[end[0],end[1]]"
   ]
  },
  {
   "cell_type": "code",
   "execution_count": null,
   "metadata": {
    "colab": {
     "base_uri": "https://localhost:8080/"
    },
    "id": "XwooXAdcJat6",
    "outputId": "3988f9b1-f328-45e6-d258-ca7062497a12"
   },
   "outputs": [
    {
     "data": {
      "text/plain": [
       "array([[  -1.,   -1., -100.,   -1.,   -1.,   -1.,   -1.,   -1.,   -1.,\n",
       "          -1., -100.,   -1.,   -1.,   -1., -100., -100.,   -1.,   -1.,\n",
       "          -1., -100.],\n",
       "       [  -1., -100.,   -1., -100.,   -1.,   -1.,   -1.,   -1.,   -1.,\n",
       "          -1., -100., -100.,   -1.,   -1.,   -1.,   -1.,   -1.,   -1.,\n",
       "          -1.,   -1.],\n",
       "       [  -1.,   -1.,   -1., -100.,   -1., -100.,   -1.,   -1., -100.,\n",
       "          -1., -100.,   -1.,   -1.,   -1.,   -1.,   -1., -100.,   -1.,\n",
       "        -100., -100.],\n",
       "       [  -1.,   -1.,   -1., -100.,   -1.,   -1.,   -1.,   -1.,   -1.,\n",
       "          -1.,   -1.,   -1.,   -1.,   -1.,   -1.,   -1., -100.,   -1.,\n",
       "          -1.,   -1.],\n",
       "       [  -1.,   -1.,   -1., -100.,   -1.,   -1.,   -1.,   -1.,   -1.,\n",
       "        -100., -100.,   -1.,   -1., -100.,   -1.,   -1.,   -1., -100.,\n",
       "          -1., -100.],\n",
       "       [  -1.,   -1.,   -1.,   -1.,   -1.,   -1.,   -1.,   -1., -100.,\n",
       "          -1.,   -1., -100., -100.,   -1.,   -1., -100., -100.,   -1.,\n",
       "          -1.,   -1.],\n",
       "       [-100., -100.,   -1.,   -1.,   -1., -100., -100.,   -1.,   -1.,\n",
       "          -1.,   -1.,   -1., -100.,   -1.,   -1.,   -1.,   -1.,   -1.,\n",
       "          -1., -100.],\n",
       "       [  -1.,   -1.,   -1.,   -1.,   -1.,   -1.,   -1.,   -1.,   -1.,\n",
       "          -1.,   -1.,   -1.,   -1.,   -1.,   -1.,   -1.,   -1., -100.,\n",
       "          -1.,   -1.],\n",
       "       [  -1.,   -1.,   -1.,   -1., -100.,   -1.,   -1.,   -1.,   -1.,\n",
       "          -1.,   -1.,   -1., -100.,   -1.,   -1., -100., -100.,   -1.,\n",
       "          -1.,   -1.],\n",
       "       [  -1.,   -1.,   -1.,   -1.,   -1.,   -1.,   -1., -100.,   -1.,\n",
       "        -100.,   -1., -100.,   -1., -100.,   -1.,   -1.,   -1.,   -1.,\n",
       "          -1.,   -1.],\n",
       "       [-100.,   -1.,   -1.,   -1.,   -1.,   -1.,   -1., -100.,   -1.,\n",
       "          -1.,   -1., -100.,   -1.,   -1.,   -1.,   -1.,   -1.,   -1.,\n",
       "          -1., -100.],\n",
       "       [-100.,   -1.,   -1., -100., -100., -100.,   -1., -100.,   -1.,\n",
       "          -1., -100.,   -1.,   -1., -100.,   -1.,   -1., -100., -100.,\n",
       "          -1., -100.],\n",
       "       [  -1.,   -1.,   -1., -100.,   -1., -100.,   -1.,   -1.,   -1.,\n",
       "          -1.,   -1.,   -1., -100., -100.,   -1., -100.,   -1.,   -1.,\n",
       "          -1.,   -1.],\n",
       "       [  -1.,   -1.,   -1., -100.,   -1.,   -1.,   -1., -100.,   -1.,\n",
       "          -1.,   -1.,   -1.,   -1., -100.,   -1., -100.,   -1.,   -1.,\n",
       "          -1.,   -1.],\n",
       "       [-100.,   -1.,   -1.,   -1., -100.,   -1.,   -1., -100.,   -1.,\n",
       "          -1.,   -1.,   -1.,   -1.,   -1.,   -1.,   -1., -100.,   -1.,\n",
       "          -1.,   -1.],\n",
       "       [  -1.,   -1., -100.,   -1., -100.,   -1., -100.,   -1., -100.,\n",
       "          -1.,   -1., -100., -100.,   -1.,   -1.,   -1.,   -1.,   -1.,\n",
       "        -100.,   -1.],\n",
       "       [-100., -100., -100.,   -1.,   -1.,   -1.,   -1.,   -1.,   -1.,\n",
       "          -1.,   -1.,   -1., -100.,   -1.,   -1.,   -1.,   -1.,   -1.,\n",
       "          -1., -100.],\n",
       "       [  -1., -100.,   -1.,   -1.,   -1., -100., -100., -100.,   -1.,\n",
       "        -100.,   -1.,   -1., -100.,   -1., -100., -100.,   -1.,   -1.,\n",
       "        -100.,   -1.],\n",
       "       [  -1.,   -1.,   -1.,   -1.,   -1.,   -1.,   -1.,   -1., -100.,\n",
       "        -100.,   -1.,   -1.,   -1.,   -1., -100., -100., -100.,   -1.,\n",
       "          -1.,   -1.],\n",
       "       [  -1.,   -1.,   -1.,   -1.,   -1.,   -1.,   -1., -100.,   -1.,\n",
       "          -1.,   -1.,   -1.,   -1., -100.,   -1.,   -1.,   -1.,   -1.,\n",
       "        -100.,  100.]])"
      ]
     },
     "execution_count": 12,
     "metadata": {},
     "output_type": "execute_result"
    }
   ],
   "source": [
    "rewards"
   ]
  },
  {
   "cell_type": "code",
   "execution_count": null,
   "metadata": {
    "colab": {
     "base_uri": "https://localhost:8080/",
     "height": 867
    },
    "id": "44ae6516",
    "outputId": "d958479f-c0ba-46a3-cfed-3af4d29ca27f"
   },
   "outputs": [
    {
     "data": {
      "image/png": "[encoded data removed]",
      "text/plain": [
       "<Figure size 1080x1080 with 1 Axes>"
      ]
     },
     "metadata": {
      "needs_background": "light"
     },
     "output_type": "display_data"
    }
   ],
   "source": [
    "import matplotlib.pyplot as plt\n",
    "plt.figure(figsize=(15,15))\n",
    "plt.pcolormesh(rewards,edgecolors='b',cmap=plt.cm.hot)\n",
    "plt.xlim(0,horizontal)\n",
    "plt.ylim(vertical,0)\n",
    "plt.xticks(np.arange(0, horizontal, 1.0))\n",
    "plt.yticks(np.arange(0, vertical, 1.0))\n",
    "plt.show()"
   ]
  },
  {
   "cell_type": "code",
   "execution_count": null,
   "metadata": {
    "id": "45f4f780"
   },
   "outputs": [],
   "source": [
    "def is_obstacle_state(current_row,current_col):\n",
    "    if(rewards[current_row,current_col]==-1):\n",
    "        return False\n",
    "    else:\n",
    "        return True"
   ]
  },
  {
   "cell_type": "code",
   "execution_count": null,
   "metadata": {
    "id": "5b2c0c21"
   },
   "outputs": [],
   "source": [
    "q_values = np.zeros((horizontal, vertical, 4))"
   ]
  },
  {
   "cell_type": "code",
   "execution_count": null,
   "metadata": {
    "id": "0d761bbf"
   },
   "outputs": [],
   "source": [
    "def next_action(current_row_index, current_column_index, epsilon):\n",
    "    if np.random.random() < epsilon:\n",
    "        return np.argmax(q_values[current_row_index, current_column_index])\n",
    "    else: \n",
    "        return np.random.randint(4)\n",
    "    \n",
    "def get_next_cell(current_row_index, current_column_index, action_index):\n",
    "    new_row_index = current_row_index\n",
    "    new_column_index = current_column_index\n",
    "    if actions[action_index] == 'up' and current_row_index > 0:\n",
    "        new_row_index -= 1\n",
    "    elif actions[action_index] == 'right' and current_column_index < vertical - 1:\n",
    "        new_column_index += 1\n",
    "    elif actions[action_index] == 'down' and current_row_index < horizontal - 1:\n",
    "        new_row_index += 1\n",
    "    elif actions[action_index] == 'left' and current_column_index > 0:\n",
    "        new_column_index -= 1\n",
    "    return new_row_index, new_column_index\n",
    "\n",
    "def get_shortest_path(start_row_index, start_column_index):\n",
    "    if is_obstacle_state(start_row_index, start_column_index):\n",
    "        return []\n",
    "    else: \n",
    "        current_row_index, current_column_index = start_row_index, start_column_index\n",
    "        shortest_path = []\n",
    "        shortest_path.append([current_row_index, current_column_index])\n",
    "    while not is_obstacle_state(current_row_index, current_column_index):\n",
    "        action_index = next_action(current_row_index, current_column_index, 1.)\n",
    "        current_row_index, current_column_index = get_next_cell(current_row_index, current_column_index, action_index)\n",
    "        shortest_path.append([current_row_index, current_column_index])\n",
    "    return shortest_path"
   ]
  },
  {
   "cell_type": "code",
   "execution_count": null,
   "metadata": {
    "colab": {
     "base_uri": "https://localhost:8080/"
    },
    "id": "7N50H2HOMQRp",
    "outputId": "8ea8c109-69a9-4446-cc2f-53cdb4be7d39"
   },
   "outputs": [
    {
     "data": {
      "text/plain": [
       "(0, 0)"
      ]
     },
     "execution_count": 17,
     "metadata": {},
     "output_type": "execute_result"
    }
   ],
   "source": [
    "start[0],start[1]"
   ]
  },
  {
   "cell_type": "code",
   "execution_count": null,
   "metadata": {
    "colab": {
     "base_uri": "https://localhost:8080/"
    },
    "id": "E6Tnxt3LMTm0",
    "outputId": "2b9cc30c-f630-420b-df3f-fc2573d85aba"
   },
   "outputs": [
    {
     "data": {
      "text/plain": [
       "(19, 19)"
      ]
     },
     "execution_count": 18,
     "metadata": {},
     "output_type": "execute_result"
    }
   ],
   "source": [
    "end[0],end[1]"
   ]
  },
  {
   "cell_type": "code",
   "execution_count": null,
   "metadata": {
    "colab": {
     "base_uri": "https://localhost:8080/"
    },
    "id": "3499dc2d",
    "outputId": "e5660b19-a3fc-47c8-a3ef-9e2f395ea63c"
   },
   "outputs": [
    {
     "name": "stdout",
     "output_type": "stream",
     "text": [
      "Training complete!\n"
     ]
    }
   ],
   "source": [
    "epsilon = 1.0\n",
    "discount_factor = 0.9\n",
    "learning_rate = 0.1\n",
    "\n",
    "all_steps = []\n",
    "all_costs = []\n",
    "\n",
    "for episode in range(2000):\n",
    "    row_index, column_index = start[0],start[1]\n",
    "    steps = 0\n",
    "    costs = 0\n",
    "    while not is_obstacle_state(row_index, column_index):\n",
    "        action_index = next_action(row_index, column_index, epsilon)\n",
    "        old_row_index, old_column_index = row_index, column_index \n",
    "        row_index, column_index = get_next_cell(row_index, column_index, action_index)\n",
    "        reward = rewards[row_index, column_index]\n",
    "        old_q_value = q_values[old_row_index, old_column_index, action_index]\n",
    "        temporal_difference = reward + (discount_factor * np.max(q_values[row_index, column_index])) - old_q_value\n",
    "        new_q_value = old_q_value + (learning_rate * temporal_difference)\n",
    "        q_values[old_row_index, old_column_index, action_index] = new_q_value\n",
    "        steps+=1\n",
    "        costs+=reward\n",
    "    all_steps.append(steps)\n",
    "    all_costs.append(costs)\n",
    "print('Training complete!')"
   ]
  },
  {
   "cell_type": "code",
   "execution_count": null,
   "metadata": {
    "colab": {
     "base_uri": "https://localhost:8080/"
    },
    "id": "s_L3c2fwL4tW",
    "outputId": "8296034e-72b9-41c9-e846-2e959b6cc620"
   },
   "outputs": [
    {
     "data": {
      "text/plain": [
       "1999"
      ]
     },
     "execution_count": 20,
     "metadata": {},
     "output_type": "execute_result"
    }
   ],
   "source": [
    "episode"
   ]
  },
  {
   "cell_type": "code",
   "execution_count": null,
   "metadata": {
    "id": "nYzOTCMKb5t1"
   },
   "outputs": [],
   "source": [
    "episodes = []\n",
    "for i in range(0,2000):\n",
    "  episodes.append(i)"
   ]
  },
  {
   "cell_type": "code",
   "execution_count": null,
   "metadata": {
    "colab": {
     "base_uri": "https://localhost:8080/",
     "height": 497
    },
    "id": "Qg0a5-Z5ceY2",
    "outputId": "d014ef7f-686e-4272-c978-f51837261a4f"
   },
   "outputs": [
    {
     "data": {
      "image/png": "[encoded data removed]",
      "text/plain": [
       "<Figure size 864x576 with 1 Axes>"
      ]
     },
     "metadata": {
      "needs_background": "light"
     },
     "output_type": "display_data"
    }
   ],
   "source": [
    "import matplotlib.pyplot as plt\n",
    "plt.figure(figsize=(12,8))\n",
    "plt.plot(episodes,all_steps)\n",
    "plt.xlabel(\"Episodes\")\n",
    "plt.ylabel(\"Steps per Episode\")\n",
    "plt.show()"
   ]
  },
  {
   "cell_type": "code",
   "execution_count": null,
   "metadata": {
    "colab": {
     "base_uri": "https://localhost:8080/",
     "height": 501
    },
    "id": "cwmuMHs5cwSa",
    "outputId": "a716cdb6-753c-4ddd-f98f-eababda9eaf0"
   },
   "outputs": [
    {
     "data": {
      "image/png": "[encoded data removed]",
      "text/plain": [
       "<Figure size 864x576 with 1 Axes>"
      ]
     },
     "metadata": {
      "needs_background": "light"
     },
     "output_type": "display_data"
    }
   ],
   "source": [
    "plt.figure(figsize=(12,8))\n",
    "plt.plot(episodes,all_costs)\n",
    "plt.xlabel(\"Episodes\")\n",
    "plt.ylabel(\"Rewards per Episode\")\n",
    "plt.show()"
   ]
  },
  {
   "cell_type": "code",
   "execution_count": null,
   "metadata": {
    "colab": {
     "base_uri": "https://localhost:8080/"
    },
    "id": "7e5a9283",
    "outputId": "c49305d8-c418-432a-f98b-f04584205922"
   },
   "outputs": [
    {
     "data": {
      "text/plain": [
       "array([[[ -9.10371381,  -9.10371381,  -7.76968845,  -9.10371381],\n",
       "        [ -9.10371381, -10.        , -10.        ,  -9.10443878],\n",
       "        [  0.        ,   0.        ,   0.        ,   0.        ],\n",
       "        ...,\n",
       "        [ -6.58833938,  -6.59199233,  -6.57613535,  -6.59395977],\n",
       "        [ -6.58833938, -10.        ,  -6.59107497,  -6.58122637],\n",
       "        [  0.        ,   0.        ,   0.        ,   0.        ]],\n",
       "\n",
       "       [[ -9.02460303, -10.        ,  -7.52187605,  -9.00895184],\n",
       "        [  0.        ,   0.        ,   0.        ,   0.        ],\n",
       "        [-10.        , -10.        ,  -8.72460694, -10.        ],\n",
       "        ...,\n",
       "        [ -6.55725556,  -6.56293584,  -6.56268194,  -6.55921094],\n",
       "        [ -6.5746764 ,  -6.55388085, -10.        ,  -6.58504519],\n",
       "        [-10.        ,  -6.55387817, -10.        ,  -6.5612311 ]],\n",
       "\n",
       "       [[ -8.90501346,  -8.90464599,  -7.24652894,  -8.90417094],\n",
       "        [-10.        ,  -8.80051678,  -8.78709265,  -8.81866571],\n",
       "        [ -8.72342245, -10.        ,  -8.70104535,  -8.71490386],\n",
       "        ...,\n",
       "        [ -6.46833323, -10.        ,  -6.44960419, -10.        ],\n",
       "        [  0.        ,   0.        ,   0.        ,   0.        ],\n",
       "        [  0.        ,   0.        ,   0.        ,   0.        ]],\n",
       "\n",
       "       ...,\n",
       "\n",
       "       [[-10.        , -10.        ,  -6.93184657,  -6.91455529],\n",
       "        [  0.        ,   0.        ,   0.        ,   0.        ],\n",
       "        [-10.        ,  -6.91686429,  -6.91224614, -10.        ],\n",
       "        ...,\n",
       "        [ -1.08436038, -10.        ,  70.19      ,  -1.09283235],\n",
       "        [  0.        ,   0.        ,   0.        ,   0.        ],\n",
       "        [-10.        ,   0.        ,   0.        ,   0.        ]],\n",
       "\n",
       "       [[ -6.91455609,  -6.92710756,  -6.91455581,  -6.91455529],\n",
       "        [-10.        ,  -6.92106433,  -6.9139108 ,  -6.91455549],\n",
       "        [ -6.91137775,  -6.91690677,  -6.91005516,  -6.91396396],\n",
       "        ...,\n",
       "        [ -0.63039428,  79.1       ,  -0.5760631 , -10.        ],\n",
       "        [-10.        ,  89.        , -10.        ,  -0.2503459 ],\n",
       "        [ -0.1       ,  -0.1       , 100.        ,   0.        ]],\n",
       "\n",
       "       [[ -6.91456442,  -6.91455631,  -6.91455529,  -6.91455529],\n",
       "        [ -6.91442314,  -6.91422156,  -6.91455529,  -6.91460752],\n",
       "        [ -6.91553597,  -6.90477325,  -6.91455529,  -6.91364498],\n",
       "        ...,\n",
       "        [ -0.45854167, -10.        ,  -0.3940399 ,  -0.3529    ],\n",
       "        [  0.        ,   0.        ,   0.        ,   0.        ],\n",
       "        [  0.        ,   0.        ,   0.        ,   0.        ]]])"
      ]
     },
     "execution_count": 24,
     "metadata": {},
     "output_type": "execute_result"
    }
   ],
   "source": [
    "q_values"
   ]
  },
  {
   "cell_type": "code",
   "execution_count": null,
   "metadata": {
    "colab": {
     "base_uri": "https://localhost:8080/"
    },
    "id": "48ac263d",
    "outputId": "83f860b9-60b9-4936-f6cb-f8637782fb92"
   },
   "outputs": [
    {
     "name": "stdout",
     "output_type": "stream",
     "text": [
      "[[0, 0], [1, 0], [2, 0], [3, 0], [3, 1], [3, 2], [4, 2], [5, 2], [6, 2], [7, 2], [7, 3], [7, 4], [7, 5], [7, 6], [7, 7], [7, 8], [8, 8], [9, 8], [10, 8], [10, 9], [11, 9], [12, 9], [13, 9], [14, 9], [14, 10], [14, 11], [14, 12], [14, 13], [14, 14], [15, 14], [16, 14], [16, 15], [16, 16], [16, 17], [17, 17], [18, 17], [18, 18], [18, 19], [19, 19]]\n"
     ]
    }
   ],
   "source": [
    "print(get_shortest_path(start[0], start[1]))\n"
   ]
  },
  {
   "cell_type": "code",
   "execution_count": null,
   "metadata": {
    "id": "OCU1C47feX9W"
   },
   "outputs": [],
   "source": [
    "#displaying qtable as dataframe\n",
    "\n",
    "q = np.zeros((horizontal*vertical,6))\n",
    "q_table = pd.DataFrame(q)\n",
    "q_table.columns = ['state_row','state_col','up','down','left','right']\n",
    "q_table['state_col'] = q_table['state_col'].astype(int)\n",
    "q_table['state_row'] = q_table['state_row'].astype(int)\n",
    "l=0\n",
    "for i in range(vertical*horizontal):\n",
    "    for j in range(vertical):\n",
    "        q_table['state_col'][l+j]= j\n",
    "    for k in range(horizontal):\n",
    "        q_table['state_row'][l+k]=i\n",
    "    l+=vertical"
   ]
  },
  {
   "cell_type": "code",
   "execution_count": null,
   "metadata": {
    "id": "kYoQDIfLeYGS"
   },
   "outputs": [],
   "source": [
    "for i in range(len(q_values[0])):\n",
    "  for j in range(len(q_values[1])):\n",
    "    index = q_table[(q_table['state_row']==i) & (q_table['state_col']==j)].index\n",
    "    index = int(index[0])\n",
    "    for k in range(4):\n",
    "       q_table.iloc[index,k+2] = q_values[i][j][k]"
   ]
  },
  {
   "cell_type": "code",
   "execution_count": null,
   "metadata": {
    "colab": {
     "base_uri": "https://localhost:8080/",
     "height": 423
    },
    "id": "Jwofyl3SeYKD",
    "outputId": "34793afa-9ba5-4341-8dfd-a458d7956350"
   },
   "outputs": [
    {
     "data": {
      "text/html": [
       "\n",
       "  <div id=\"df-1a0abd6d-d0c9-4a69-ab5a-93fcc6e2c92f\">\n",
       "    <div class=\"colab-df-container\">\n",
       "      <div>\n",
       "<style scoped>\n",
       "    .dataframe tbody tr th:only-of-type {\n",
       "        vertical-align: middle;\n",
       "    }\n",
       "\n",
       "    .dataframe tbody tr th {\n",
       "        vertical-align: top;\n",
       "    }\n",
       "\n",
       "    .dataframe thead th {\n",
       "        text-align: right;\n",
       "    }\n",
       "</style>\n",
       "<table border=\"1\" class=\"dataframe\">\n",
       "  <thead>\n",
       "    <tr style=\"text-align: right;\">\n",
       "      <th></th>\n",
       "      <th>state_row</th>\n",
       "      <th>state_col</th>\n",
       "      <th>up</th>\n",
       "      <th>down</th>\n",
       "      <th>left</th>\n",
       "      <th>right</th>\n",
       "    </tr>\n",
       "  </thead>\n",
       "  <tbody>\n",
       "    <tr>\n",
       "      <th>0</th>\n",
       "      <td>0</td>\n",
       "      <td>0</td>\n",
       "      <td>-9.103714</td>\n",
       "      <td>-9.103714</td>\n",
       "      <td>-7.769688</td>\n",
       "      <td>-9.103714</td>\n",
       "    </tr>\n",
       "    <tr>\n",
       "      <th>1</th>\n",
       "      <td>0</td>\n",
       "      <td>1</td>\n",
       "      <td>-9.103714</td>\n",
       "      <td>-10.000000</td>\n",
       "      <td>-10.000000</td>\n",
       "      <td>-9.104439</td>\n",
       "    </tr>\n",
       "    <tr>\n",
       "      <th>2</th>\n",
       "      <td>0</td>\n",
       "      <td>2</td>\n",
       "      <td>0.000000</td>\n",
       "      <td>0.000000</td>\n",
       "      <td>0.000000</td>\n",
       "      <td>0.000000</td>\n",
       "    </tr>\n",
       "    <tr>\n",
       "      <th>3</th>\n",
       "      <td>0</td>\n",
       "      <td>3</td>\n",
       "      <td>-7.717695</td>\n",
       "      <td>-7.724551</td>\n",
       "      <td>-10.000000</td>\n",
       "      <td>-10.000000</td>\n",
       "    </tr>\n",
       "    <tr>\n",
       "      <th>4</th>\n",
       "      <td>0</td>\n",
       "      <td>4</td>\n",
       "      <td>-7.717695</td>\n",
       "      <td>-7.727492</td>\n",
       "      <td>-7.727285</td>\n",
       "      <td>-7.717695</td>\n",
       "    </tr>\n",
       "    <tr>\n",
       "      <th>...</th>\n",
       "      <td>...</td>\n",
       "      <td>...</td>\n",
       "      <td>...</td>\n",
       "      <td>...</td>\n",
       "      <td>...</td>\n",
       "      <td>...</td>\n",
       "    </tr>\n",
       "    <tr>\n",
       "      <th>395</th>\n",
       "      <td>19</td>\n",
       "      <td>15</td>\n",
       "      <td>-10.000000</td>\n",
       "      <td>-0.110539</td>\n",
       "      <td>0.000000</td>\n",
       "      <td>0.000000</td>\n",
       "    </tr>\n",
       "    <tr>\n",
       "      <th>396</th>\n",
       "      <td>19</td>\n",
       "      <td>16</td>\n",
       "      <td>-10.000000</td>\n",
       "      <td>-0.232121</td>\n",
       "      <td>-0.199000</td>\n",
       "      <td>-0.190000</td>\n",
       "    </tr>\n",
       "    <tr>\n",
       "      <th>397</th>\n",
       "      <td>19</td>\n",
       "      <td>17</td>\n",
       "      <td>-0.458542</td>\n",
       "      <td>-10.000000</td>\n",
       "      <td>-0.394040</td>\n",
       "      <td>-0.352900</td>\n",
       "    </tr>\n",
       "    <tr>\n",
       "      <th>398</th>\n",
       "      <td>19</td>\n",
       "      <td>18</td>\n",
       "      <td>0.000000</td>\n",
       "      <td>0.000000</td>\n",
       "      <td>0.000000</td>\n",
       "      <td>0.000000</td>\n",
       "    </tr>\n",
       "    <tr>\n",
       "      <th>399</th>\n",
       "      <td>19</td>\n",
       "      <td>19</td>\n",
       "      <td>0.000000</td>\n",
       "      <td>0.000000</td>\n",
       "      <td>0.000000</td>\n",
       "      <td>0.000000</td>\n",
       "    </tr>\n",
       "  </tbody>\n",
       "</table>\n",
       "<p>400 rows × 6 columns</p>\n",
       "</div>\n",
       "      <button class=\"colab-df-convert\" onclick=\"convertToInteractive('df-1a0abd6d-d0c9-4a69-ab5a-93fcc6e2c92f')\"\n",
       "              title=\"Convert this dataframe to an interactive table.\"\n",
       "              style=\"display:none;\">\n",
       "        \n",
       "  <svg xmlns=\"http://www.w3.org/2000/svg\" height=\"24px\"viewBox=\"0 0 24 24\"\n",
       "       width=\"24px\">\n",
       "    <path d=\"M0 0h24v24H0V0z\" fill=\"none\"/>\n",
       "    <path d=\"M18.56 5.44l.94 2.06.94-2.06 2.06-.94-2.06-.94-.94-2.06-.94 2.06-2.06.94zm-11 1L8.5 8.5l.94-2.06 2.06-.94-2.06-.94L8.5 2.5l-.94 2.06-2.06.94zm10 10l.94 2.06.94-2.06 2.06-.94-2.06-.94-.94-2.06-.94 2.06-2.06.94z\"/><path d=\"M17.41 7.96l-1.37-1.37c-.4-.4-.92-.59-1.43-.59-.52 0-1.04.2-1.43.59L10.3 9.45l-7.72 7.72c-.78.78-.78 2.05 0 2.83L4 21.41c.39.39.9.59 1.41.59.51 0 1.02-.2 1.41-.59l7.78-7.78 2.81-2.81c.8-.78.8-2.07 0-2.86zM5.41 20L4 18.59l7.72-7.72 1.47 1.35L5.41 20z\"/>\n",
       "  </svg>\n",
       "      </button>\n",
       "      \n",
       "  <style>\n",
       "    .colab-df-container {\n",
       "      display:flex;\n",
       "      flex-wrap:wrap;\n",
       "      gap: 12px;\n",
       "    }\n",
       "\n",
       "    .colab-df-convert {\n",
       "      background-color: #E8F0FE;\n",
       "      border: none;\n",
       "      border-radius: 50%;\n",
       "      cursor: pointer;\n",
       "      display: none;\n",
       "      fill: #1967D2;\n",
       "      height: 32px;\n",
       "      padding: 0 0 0 0;\n",
       "      width: 32px;\n",
       "    }\n",
       "\n",
       "    .colab-df-convert:hover {\n",
       "      background-color: #E2EBFA;\n",
       "      box-shadow: 0px 1px 2px rgba(60, 64, 67, 0.3), 0px 1px 3px 1px rgba(60, 64, 67, 0.15);\n",
       "      fill: #174EA6;\n",
       "    }\n",
       "\n",
       "    [theme=dark] .colab-df-convert {\n",
       "      background-color: #3B4455;\n",
       "      fill: #D2E3FC;\n",
       "    }\n",
       "\n",
       "    [theme=dark] .colab-df-convert:hover {\n",
       "      background-color: #434B5C;\n",
       "      box-shadow: 0px 1px 3px 1px rgba(0, 0, 0, 0.15);\n",
       "      filter: drop-shadow(0px 1px 2px rgba(0, 0, 0, 0.3));\n",
       "      fill: #FFFFFF;\n",
       "    }\n",
       "  </style>\n",
       "\n",
       "      <script>\n",
       "        const buttonEl =\n",
       "          document.querySelector('#df-1a0abd6d-d0c9-4a69-ab5a-93fcc6e2c92f button.colab-df-convert');\n",
       "        buttonEl.style.display =\n",
       "          google.colab.kernel.accessAllowed ? 'block' : 'none';\n",
       "\n",
       "        async function convertToInteractive(key) {\n",
       "          const element = document.querySelector('#df-1a0abd6d-d0c9-4a69-ab5a-93fcc6e2c92f');\n",
       "          const dataTable =\n",
       "            await google.colab.kernel.invokeFunction('convertToInteractive',\n",
       "                                                     [key], {});\n",
       "          if (!dataTable) return;\n",
       "\n",
       "          const docLinkHtml = 'Like what you see? Visit the ' +\n",
       "            '<a target=\"_blank\" href=https://colab.research.google.com/notebooks/data_table.ipynb>data table notebook</a>'\n",
       "            + ' to learn more about interactive tables.';\n",
       "          element.innerHTML = '';\n",
       "          dataTable['output_type'] = 'display_data';\n",
       "          await google.colab.output.renderOutput(dataTable, element);\n",
       "          const docLink = document.createElement('div');\n",
       "          docLink.innerHTML = docLinkHtml;\n",
       "          element.appendChild(docLink);\n",
       "        }\n",
       "      </script>\n",
       "    </div>\n",
       "  </div>\n",
       "  "
      ],
      "text/plain": [
       "     state_row  state_col         up       down       left      right\n",
       "0            0          0  -9.103714  -9.103714  -7.769688  -9.103714\n",
       "1            0          1  -9.103714 -10.000000 -10.000000  -9.104439\n",
       "2            0          2   0.000000   0.000000   0.000000   0.000000\n",
       "3            0          3  -7.717695  -7.724551 -10.000000 -10.000000\n",
       "4            0          4  -7.717695  -7.727492  -7.727285  -7.717695\n",
       "..         ...        ...        ...        ...        ...        ...\n",
       "395         19         15 -10.000000  -0.110539   0.000000   0.000000\n",
       "396         19         16 -10.000000  -0.232121  -0.199000  -0.190000\n",
       "397         19         17  -0.458542 -10.000000  -0.394040  -0.352900\n",
       "398         19         18   0.000000   0.000000   0.000000   0.000000\n",
       "399         19         19   0.000000   0.000000   0.000000   0.000000\n",
       "\n",
       "[400 rows x 6 columns]"
      ]
     },
     "execution_count": 28,
     "metadata": {},
     "output_type": "execute_result"
    }
   ],
   "source": [
    "q_table"
   ]
  },
  {
   "cell_type": "code",
   "execution_count": null,
   "metadata": {
    "id": "ZkqcJFMceYNV"
   },
   "outputs": [],
   "source": [
    "list1  = get_shortest_path(start[0], start[1])"
   ]
  },
  {
   "cell_type": "code",
   "execution_count": null,
   "metadata": {
    "id": "zMTeQ71ge6oy"
   },
   "outputs": [],
   "source": [
    "action_direction = dict()\n",
    "for i in range(len(list1)-1):\n",
    "  if(list1[i][0] - list1[i+1][0] == -1):\n",
    "    action_direction[(list1[i][0],list1[i][1])] = \"LEFT\"\n",
    "  elif(list1[i][0] - list1[i+1][0] == 1):\n",
    "    action_direction[(list1[i][0],list1[i][1])] = \"RIGHT\"\n",
    "  elif(list1[i][1] - list1[i+1][1] == -1):\n",
    "    action_direction[(list1[i][0],list1[i][1])] = \"UP\"\n",
    "  elif(list1[i][1] - list1[i+1][1] == 1):\n",
    "    action_direction[(list1[i][0],list1[i][1])] = \"DOWN\""
   ]
  },
  {
   "cell_type": "code",
   "execution_count": null,
   "metadata": {
    "colab": {
     "base_uri": "https://localhost:8080/"
    },
    "id": "pXIF0qBkg0pY",
    "outputId": "4d1da616-2359-4b71-d903-f036dd8a4435"
   },
   "outputs": [
    {
     "data": {
      "text/plain": [
       "{(0, 0): 'LEFT',\n",
       " (1, 0): 'LEFT',\n",
       " (2, 0): 'LEFT',\n",
       " (3, 0): 'UP',\n",
       " (3, 1): 'UP',\n",
       " (3, 2): 'LEFT',\n",
       " (4, 2): 'LEFT',\n",
       " (5, 2): 'LEFT',\n",
       " (6, 2): 'LEFT',\n",
       " (7, 2): 'UP',\n",
       " (7, 3): 'UP',\n",
       " (7, 4): 'UP',\n",
       " (7, 5): 'UP',\n",
       " (7, 6): 'UP',\n",
       " (7, 7): 'UP',\n",
       " (7, 8): 'LEFT',\n",
       " (8, 8): 'LEFT',\n",
       " (9, 8): 'LEFT',\n",
       " (10, 8): 'UP',\n",
       " (10, 9): 'LEFT',\n",
       " (11, 9): 'LEFT',\n",
       " (12, 9): 'LEFT',\n",
       " (13, 9): 'LEFT',\n",
       " (14, 9): 'UP',\n",
       " (14, 10): 'UP',\n",
       " (14, 11): 'UP',\n",
       " (14, 12): 'UP',\n",
       " (14, 13): 'UP',\n",
       " (14, 14): 'LEFT',\n",
       " (15, 14): 'LEFT',\n",
       " (16, 14): 'UP',\n",
       " (16, 15): 'UP',\n",
       " (16, 16): 'UP',\n",
       " (16, 17): 'LEFT',\n",
       " (17, 17): 'LEFT',\n",
       " (18, 17): 'UP',\n",
       " (18, 18): 'UP',\n",
       " (18, 19): 'LEFT'}"
      ]
     },
     "execution_count": 31,
     "metadata": {},
     "output_type": "execute_result"
    }
   ],
   "source": [
    "action_direction"
   ]
  },
  {
   "cell_type": "code",
   "execution_count": null,
   "metadata": {
    "id": "WzRFkowXhvTh"
   },
   "outputs": [],
   "source": [
    "direction_map = {\n",
    "    'UP'   : ( 0, 1),\n",
    "    'DOWN' : ( 0,-1),\n",
    "    'RIGHT': ( 1, 0),\n",
    "    'LEFT' : (-1, 0)\n",
    "}"
   ]
  },
  {
   "cell_type": "code",
   "execution_count": null,
   "metadata": {
    "colab": {
     "base_uri": "https://localhost:8080/",
     "height": 867
    },
    "id": "UwFT_jN9hAJB",
    "outputId": "8ceb7ac7-1c66-43f2-c973-dac00e4c3480"
   },
   "outputs": [
    {
     "data": {
      "image/png": "[encoded data removed]",
      "text/plain": [
       "<Figure size 1080x1080 with 1 Axes>"
      ]
     },
     "metadata": {
      "needs_background": "light"
     },
     "output_type": "display_data"
    }
   ],
   "source": [
    "def arrow_position(location, arrow_direction):\n",
    "    if arrow_direction == 'UP':\n",
    "        correction = (.5, .3)\n",
    "    elif arrow_direction == 'DOWN':\n",
    "        correction = (.6, .3)\n",
    "    elif arrow_direction == 'RIGHT':\n",
    "        correction = (.4, .5)\n",
    "    elif arrow_direction == 'LEFT':\n",
    "        correction = (.6, .5)\n",
    "    return (location[0]+correction[0],\n",
    "            location[1]+correction[1])\n",
    "\n",
    "fig, ax = plt.subplots(figsize=(15,15))\n",
    "plt.xlim(0,horizontal)\n",
    "plt.ylim(vertical,0)\n",
    "plt.pcolormesh(rewards,edgecolor='b',cmap=plt.cm.hot)\n",
    "# plt.grid(True)\n",
    "plt.xticks(np.arange(0, horizontal, 1.0))\n",
    "plt.yticks(np.arange(0, vertical, 1.0))\n",
    "\n",
    "locations = action_direction.keys()\n",
    "for location in locations:\n",
    "    arrow_direction = action_direction[location]\n",
    "    x_pos, y_pos = arrow_position(location, arrow_direction)\n",
    "    x_direct, y_direct = direction_map[arrow_direction]\n",
    "    ax.quiver(\n",
    "        y_pos,x_pos,\n",
    "        y_direct,x_direct,\n",
    "        scale=30)\n",
    "\n",
    "plt.show()"
   ]
  }
 ],
 "metadata": {
  "colab": {
   "collapsed_sections": [],
   "name": "q_learning_with_simulation_ep=1.0.ipynb",
   "provenance": []
  },
  "kernelspec": {
   "display_name": "Python 3",
   "language": "python",
   "name": "python3"
  },
  "language_info": {
   "codemirror_mode": {
    "name": "ipython",
    "version": 3
   },
   "file_extension": ".py",
   "mimetype": "text/x-python",
   "name": "python",
   "nbconvert_exporter": "python",
   "pygments_lexer": "ipython3",
   "version": "3.7.6"
  }
 },
 "nbformat": 4,
 "nbformat_minor": 5
}
